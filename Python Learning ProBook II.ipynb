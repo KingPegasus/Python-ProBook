{
 "cells": [
  {
   "cell_type": "markdown",
   "metadata": {},
   "source": [
    "# Python Learning ProBook II\n",
    "## Made By: [Muhammad Raza Khalid Saleemi](https://www.linkedin.com/in/muhammad-raza-khalid-saleemi/)\n",
    "\n",
    "## Let's Connect on [LinkedIn](https://www.linkedin.com/in/muhammad-raza-khalid-saleemi/) \n",
    "\n",
    "## This notebook is not completed stay tuned by clicking STAR Button ⭐\n",
    "\n",
    "## Link to [Python Learning Probook I](https://github.com/KingPegasus/Python-ProBook/blob/master/Python%20Learning%20ProBook%20I.ipynb)\n"
   ]
  },
  {
   "cell_type": "markdown",
   "metadata": {},
   "source": [
    "## Notebook Python Version"
   ]
  },
  {
   "cell_type": "code",
   "execution_count": 1,
   "metadata": {},
   "outputs": [
    {
     "data": {
      "text/plain": [
       "'3.7.6'"
      ]
     },
     "execution_count": 1,
     "metadata": {},
     "output_type": "execute_result"
    }
   ],
   "source": [
    "# Version Check\n",
    "from platform import python_version\n",
    "python_version()"
   ]
  },
  {
   "cell_type": "markdown",
   "metadata": {},
   "source": [
    "# Table of contents\n",
    "1. [Functions](#func)<br>\n",
    "    1.1. [Defining a Function](#func-def)<br>\n",
    "    1.2. [Calling a Function](#func-call)<br>\n",
    "    1.3. [Positional Arguments](#func-pos)<br>\n",
    "    1.4. [Default Value Parameters](#func-default)<br>\n",
    "    1.5. [Unknown Number of Arguments](#func-unknown)<br>\n"
   ]
  },
  {
   "cell_type": "markdown",
   "metadata": {},
   "source": [
    "# 1. Functions  <a name=\"func\"></a>\n",
    "- A function is a block of code which only runs when it is called. You can pass data, known as parameters, into a function. A function can return data as a result. (W3Schools)\n",
    "- A function is a set of statements that take inputs, do some specific computation and produces output. The idea is to put some commonly or repeatedly done task together and make a function, so that instead of writing the same code again and again for different inputs, we can call the function. (geeksforgeeks)"
   ]
  },
  {
   "cell_type": "markdown",
   "metadata": {},
   "source": [
    "\n",
    "![Funtion Definition](https://cdn.askpython.com/wp-content/uploads/2019/06/python-functions.png)"
   ]
  },
  {
   "cell_type": "markdown",
   "metadata": {},
   "source": [
    "### 1.1. Defining a Function <a name=\"func-def\"></a>"
   ]
  },
  {
   "cell_type": "code",
   "execution_count": 2,
   "metadata": {},
   "outputs": [],
   "source": [
    "# Defining a function which has nothing\n",
    "def function_with_nothing_inside():\n",
    "    pass"
   ]
  },
  {
   "cell_type": "code",
   "execution_count": 3,
   "metadata": {},
   "outputs": [],
   "source": [
    "# Defining a function to print \"Hello World!\"\n",
    "def function_which_prints():\n",
    "    print(\"Hello World!\")"
   ]
  },
  {
   "cell_type": "code",
   "execution_count": 4,
   "metadata": {},
   "outputs": [],
   "source": [
    "# Defining a function with a single parameter/argument\n",
    "def function_which_accepts_parameter(parameter):\n",
    "    print(\"Received parameter is \", parameter) #prints the received parameter"
   ]
  },
  {
   "cell_type": "code",
   "execution_count": 5,
   "metadata": {},
   "outputs": [],
   "source": [
    "# Defining a function which displays addition of two parameters\n",
    "def function_which_adds(parameter1, parameter2):\n",
    "    sum_of_parameters = parameter1 + parameter2\n",
    "    print(f\"Sum of {parameter1} and {parameter2} is {sum_of_parameters}\")"
   ]
  },
  {
   "cell_type": "code",
   "execution_count": 10,
   "metadata": {},
   "outputs": [],
   "source": [
    "# Defining a function which returns addition of two parameters\n",
    "def function_which_returns_addition(parameter1, parameter2):\n",
    "    sum_of_parameters = parameter1 + parameter2\n",
    "    return sum_of_parameters"
   ]
  },
  {
   "cell_type": "markdown",
   "metadata": {},
   "source": [
    "### 1.2. Calling a Function <a name=\"func-call\"></a>"
   ]
  },
  {
   "cell_type": "code",
   "execution_count": 6,
   "metadata": {},
   "outputs": [],
   "source": [
    "# Calling a function which has nothing\n",
    "function_with_nothing_inside() #no output"
   ]
  },
  {
   "cell_type": "code",
   "execution_count": 7,
   "metadata": {},
   "outputs": [
    {
     "name": "stdout",
     "output_type": "stream",
     "text": [
      "Hello World!\n"
     ]
    }
   ],
   "source": [
    "# Calling a function which prints \"Hello World!\"\n",
    "function_which_prints()"
   ]
  },
  {
   "cell_type": "code",
   "execution_count": 8,
   "metadata": {},
   "outputs": [
    {
     "name": "stdout",
     "output_type": "stream",
     "text": [
      "Received parameter is  'I am a parameter'\n",
      "Received parameter is  32\n",
      "Received parameter is  (1, 2)\n",
      "Received parameter is  {'key': 23}\n",
      "Received parameter is  [1, '2', (1, 2), {'k': 23}]\n"
     ]
    }
   ],
   "source": [
    "# Calling function with a single parameter/argument\n",
    "function_which_accepts_parameter(\"'I am a parameter'\") #String as a parameter\n",
    "function_which_accepts_parameter(32) #Integer as a parameter\n",
    "function_which_accepts_parameter((1,2)) #Tuple as a parameter\n",
    "function_which_accepts_parameter({'key' : 23}) #Dictionary as a parameter\n",
    "function_which_accepts_parameter([1,'2', (1,2), {'k': 23}]) #List as a parameter"
   ]
  },
  {
   "cell_type": "code",
   "execution_count": 9,
   "metadata": {},
   "outputs": [
    {
     "name": "stdout",
     "output_type": "stream",
     "text": [
      "Sum of 11 and 22 is 33\n",
      "Sum of parameter1 and parameter2 is parameter1parameter2\n",
      "Sum of 1.1 and 2.2 is 3.3000000000000003\n",
      "Sum of [1.1, 1.2] and [2.2, 2.3] is [1.1, 1.2, 2.2, 2.3]\n"
     ]
    }
   ],
   "source": [
    "# Caling function which displays addition of two parameters\n",
    "function_which_adds(11, 22) #adds two integers\n",
    "function_which_adds('parameter1', 'parameter2') #adds(concatenate) two strings\n",
    "function_which_adds(1.1, 2.2) #adds two floats\n",
    "function_which_adds([1.1,1.2], [2.2,2.3]) #adds(concatenate) two lists"
   ]
  },
  {
   "cell_type": "code",
   "execution_count": 11,
   "metadata": {},
   "outputs": [],
   "source": [
    "# Calling function which returns addition of two parameters and strore in variable\n",
    "return_variable1 = function_which_returns_addition(11, 22) #adds two integers\n",
    "return_variable2 = function_which_returns_addition('parameter1', 'parameter2') #adds(concatenate) two strings\n",
    "return_variable3 = function_which_returns_addition(1.1, 2.2) #adds two floats\n",
    "return_variable4 = function_which_returns_addition([1.1,1.2], [2.2,2.3]) #adds(concatenate) two lists"
   ]
  },
  {
   "cell_type": "code",
   "execution_count": 12,
   "metadata": {},
   "outputs": [
    {
     "name": "stdout",
     "output_type": "stream",
     "text": [
      "return_variable1 =  33\n",
      "return_variable2 =  parameter1parameter2\n",
      "return_variable3 =  3.3000000000000003\n",
      "return_variable4 =  [1.1, 1.2, 2.2, 2.3]\n"
     ]
    }
   ],
   "source": [
    "# The functions didn't print anything only returned. Now print the returned values\n",
    "print('return_variable1 = ', return_variable1)\n",
    "print('return_variable2 = ', return_variable2)\n",
    "print('return_variable3 = ', return_variable3)\n",
    "print('return_variable4 = ', return_variable4)"
   ]
  },
  {
   "cell_type": "markdown",
   "metadata": {},
   "source": [
    "### 1.3. Positional Arguments <a name=\"func-pos\"></a>"
   ]
  },
  {
   "cell_type": "code",
   "execution_count": 13,
   "metadata": {},
   "outputs": [],
   "source": [
    "# Defining Function with 3 arguments/parameters\n",
    "def function_with_arguments(parameter1, parameter2, parameter3):\n",
    "    print(f\"First parameter value is {parameter1}\")\n",
    "    print(f\"Second parameter value is {parameter2}\")\n",
    "    print(f\"Third parameter value is {parameter3}\")"
   ]
  },
  {
   "cell_type": "code",
   "execution_count": 14,
   "metadata": {},
   "outputs": [
    {
     "name": "stdout",
     "output_type": "stream",
     "text": [
      "First parameter value is 1\n",
      "Second parameter value is 2\n",
      "Third parameter value is 3\n"
     ]
    }
   ],
   "source": [
    "# Calling function using positional arguments\n",
    "function_with_arguments(parameter1 = 1, parameter2 = 2, parameter3 = 3)"
   ]
  },
  {
   "cell_type": "code",
   "execution_count": 15,
   "metadata": {},
   "outputs": [
    {
     "name": "stdout",
     "output_type": "stream",
     "text": [
      "First parameter value is 3\n",
      "Second parameter value is 2\n",
      "Third parameter value is 1\n"
     ]
    }
   ],
   "source": [
    "# Calling function using positional arguments change\n",
    "function_with_arguments(parameter3 = 1, parameter2 = 2, parameter1 = 3)"
   ]
  },
  {
   "cell_type": "code",
   "execution_count": 16,
   "metadata": {},
   "outputs": [
    {
     "name": "stdout",
     "output_type": "stream",
     "text": [
      "First parameter value is 1\n",
      "Second parameter value is 2\n",
      "Third parameter value is 3\n"
     ]
    }
   ],
   "source": [
    "# Calling function using positional arguments for some imputs\n",
    "function_with_arguments(1, parameter2 = 2, parameter3 = 3)"
   ]
  },
  {
   "cell_type": "code",
   "execution_count": 18,
   "metadata": {},
   "outputs": [
    {
     "ename": "SyntaxError",
     "evalue": "positional argument follows keyword argument (<ipython-input-18-02113cee702e>, line 2)",
     "output_type": "error",
     "traceback": [
      "\u001b[1;36m  File \u001b[1;32m\"<ipython-input-18-02113cee702e>\"\u001b[1;36m, line \u001b[1;32m2\u001b[0m\n\u001b[1;33m    function_with_arguments(1, parameter2 = 2, 3)\u001b[0m\n\u001b[1;37m                                              ^\u001b[0m\n\u001b[1;31mSyntaxError\u001b[0m\u001b[1;31m:\u001b[0m positional argument follows keyword argument\n"
     ]
    }
   ],
   "source": [
    "# Error in Calling function using positional arguments for some imputs\n",
    "function_with_arguments(1, parameter2 = 2, 3)\n",
    "\n",
    "# NOTE: Can not use fixed argument after using positional argument"
   ]
  },
  {
   "cell_type": "code",
   "execution_count": 23,
   "metadata": {},
   "outputs": [
    {
     "ename": "TypeError",
     "evalue": "function_with_arguments() got multiple values for argument 'parameter1'",
     "output_type": "error",
     "traceback": [
      "\u001b[1;31m---------------------------------------------------------------------------\u001b[0m",
      "\u001b[1;31mTypeError\u001b[0m                                 Traceback (most recent call last)",
      "\u001b[1;32m<ipython-input-23-45cc98f64b14>\u001b[0m in \u001b[0;36m<module>\u001b[1;34m\u001b[0m\n\u001b[0;32m      1\u001b[0m \u001b[1;31m# Multiple value for a single argument\u001b[0m\u001b[1;33m\u001b[0m\u001b[1;33m\u001b[0m\u001b[1;33m\u001b[0m\u001b[0m\n\u001b[1;32m----> 2\u001b[1;33m \u001b[0mfunction_with_arguments\u001b[0m\u001b[1;33m(\u001b[0m\u001b[1;36m1\u001b[0m\u001b[1;33m,\u001b[0m \u001b[0mparameter1\u001b[0m \u001b[1;33m=\u001b[0m \u001b[1;36m1\u001b[0m\u001b[1;33m,\u001b[0m \u001b[0mparameter3\u001b[0m \u001b[1;33m=\u001b[0m \u001b[1;36m3\u001b[0m\u001b[1;33m)\u001b[0m\u001b[1;33m\u001b[0m\u001b[1;33m\u001b[0m\u001b[0m\n\u001b[0m\u001b[0;32m      3\u001b[0m \u001b[1;33m\u001b[0m\u001b[0m\n\u001b[0;32m      4\u001b[0m \u001b[1;31m# NOTE: (1) Function tried to assign 1 to parameter1\u001b[0m\u001b[1;33m\u001b[0m\u001b[1;33m\u001b[0m\u001b[1;33m\u001b[0m\u001b[0m\n\u001b[0;32m      5\u001b[0m \u001b[1;31m#       (2) Then it tried to assign again to same parameter using positional argument\u001b[0m\u001b[1;33m\u001b[0m\u001b[1;33m\u001b[0m\u001b[1;33m\u001b[0m\u001b[0m\n",
      "\u001b[1;31mTypeError\u001b[0m: function_with_arguments() got multiple values for argument 'parameter1'"
     ]
    }
   ],
   "source": [
    "# Multiple value for a single argument\n",
    "function_with_arguments(1, parameter1 = 1, parameter3 = 3)\n",
    "\n",
    "# NOTE: (1) Function tried to assign 1 to parameter1\n",
    "#       (2) Then it tried to assign again to same parameter using positional argument"
   ]
  },
  {
   "cell_type": "markdown",
   "metadata": {},
   "source": [
    "### 1.4. Default Value Parameters <a name=\"func-default\"></a>"
   ]
  },
  {
   "cell_type": "code",
   "execution_count": 29,
   "metadata": {},
   "outputs": [
    {
     "ename": "SyntaxError",
     "evalue": "non-default argument follows default argument (<ipython-input-29-e1b54265c082>, line 2)",
     "output_type": "error",
     "traceback": [
      "\u001b[1;36m  File \u001b[1;32m\"<ipython-input-29-e1b54265c082>\"\u001b[1;36m, line \u001b[1;32m2\u001b[0m\n\u001b[1;33m    def whats_ur_name(first, middle = \"\", last):\u001b[0m\n\u001b[1;37m                     ^\u001b[0m\n\u001b[1;31mSyntaxError\u001b[0m\u001b[1;31m:\u001b[0m non-default argument follows default argument\n"
     ]
    }
   ],
   "source": [
    "# function with a default value parameter\n",
    "def whats_ur_name(first, middle = \"\", last): \n",
    "    print(first + middle + last)\n",
    "\n",
    "# NOTE: you can't use non-default argument ('last' in this case) after default one"
   ]
  },
  {
   "cell_type": "code",
   "execution_count": 27,
   "metadata": {},
   "outputs": [
    {
     "name": "stdout",
     "output_type": "stream",
     "text": [
      "razasaleemikhalid\n",
      "razakhalidsaleemi\n"
     ]
    }
   ],
   "source": [
    "# function with default value parameter in the end\n",
    "def whats_ur_name(first, last, middle = \"\"): #remember the position\n",
    "    print(first + middle + last)\n",
    "\n",
    "whats_ur_name('raza','khalid','saleemi') # my name \"Raza Khalid Saleemi\"\n",
    "\n",
    "# NOTE: The positioning is very important\n",
    "\n",
    "# Using positional arguments\n",
    "whats_ur_name(first='raza', middle='khalid', last='saleemi')"
   ]
  },
  {
   "cell_type": "code",
   "execution_count": 28,
   "metadata": {},
   "outputs": [
    {
     "name": "stdout",
     "output_type": "stream",
     "text": [
      "ImranKhan\n"
     ]
    }
   ],
   "source": [
    "# What's the use of default ???\n",
    "# If someone without a middle name then He may skip the middle name like this....\n",
    "whats_ur_name('Imran','Khan') # not using middle or third argument"
   ]
  },
  {
   "cell_type": "markdown",
   "metadata": {},
   "source": [
    "### 1.5. Unknown Number of Arguments <a name=\"func-unknown\"></a>"
   ]
  },
  {
   "cell_type": "code",
   "execution_count": 37,
   "metadata": {},
   "outputs": [],
   "source": [
    "# To deal with unknown parameters we use (*)\n",
    "# Following function deals with 2 or more parameters\n",
    "def fucntion_TwoOrMore(fixed_parameter1, fixed_parameter2, *rest_of_unknown):\n",
    "    print(f\"First parameter value is {fixed_parameter1}\")\n",
    "    print(f\"Second parameter value is {fixed_parameter2}\")\n",
    "    print(f\"Third parameter value is {rest_of_unknown}\")"
   ]
  },
  {
   "cell_type": "code",
   "execution_count": 38,
   "metadata": {},
   "outputs": [
    {
     "name": "stdout",
     "output_type": "stream",
     "text": [
      "First parameter value is 1\n",
      "Second parameter value is 2\n",
      "Third parameter value is (3, 4)\n"
     ]
    }
   ],
   "source": [
    "#calling function by giving it 4 parameters\n",
    "fucntion_TwoOrMore(1,2,3,4)"
   ]
  },
  {
   "cell_type": "code",
   "execution_count": 39,
   "metadata": {},
   "outputs": [
    {
     "name": "stdout",
     "output_type": "stream",
     "text": [
      "First parameter value is 1\n",
      "Second parameter value is 2\n",
      "Third parameter value is (3,)\n"
     ]
    }
   ],
   "source": [
    "#calling function by giving it 3 parameters\n",
    "fucntion_TwoOrMore(1,2,3)"
   ]
  },
  {
   "cell_type": "code",
   "execution_count": 40,
   "metadata": {},
   "outputs": [
    {
     "name": "stdout",
     "output_type": "stream",
     "text": [
      "First parameter value is 1\n",
      "Second parameter value is 2\n",
      "Third parameter value is ()\n"
     ]
    }
   ],
   "source": [
    "#calling function by giving it 2 parameters\n",
    "fucntion_TwoOrMore(1,2)"
   ]
  },
  {
   "cell_type": "code",
   "execution_count": null,
   "metadata": {},
   "outputs": [],
   "source": []
  }
 ],
 "metadata": {
  "kernelspec": {
   "display_name": "Python 3",
   "language": "python",
   "name": "python3"
  },
  "language_info": {
   "codemirror_mode": {
    "name": "ipython",
    "version": 3
   },
   "file_extension": ".py",
   "mimetype": "text/x-python",
   "name": "python",
   "nbconvert_exporter": "python",
   "pygments_lexer": "ipython3",
   "version": "3.7.6"
  }
 },
 "nbformat": 4,
 "nbformat_minor": 4
}
