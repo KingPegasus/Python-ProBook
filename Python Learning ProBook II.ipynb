{
 "cells": [
  {
   "cell_type": "markdown",
   "metadata": {},
   "source": [
    "# Python Learning ProBook II\n",
    "## Made By: [Muhammad Raza Khalid Saleemi](https://www.linkedin.com/in/muhammad-raza-khalid-saleemi/)\n",
    "\n",
    "## Let's Connect on [LinkedIn](https://www.linkedin.com/in/muhammad-raza-khalid-saleemi/) \n",
    "\n",
    "## This notebook is not completed stay tuned by clicking STAR Button ⭐\n",
    "\n",
    "## Link to [Python Learning Probook I](https://github.com/KingPegasus/Python-ProBook/blob/master/Python%20Learning%20ProBook%20I.ipynb)\n"
   ]
  },
  {
   "cell_type": "markdown",
   "metadata": {},
   "source": [
    "## Notebook Python Version"
   ]
  },
  {
   "cell_type": "code",
   "execution_count": 1,
   "metadata": {},
   "outputs": [
    {
     "data": {
      "text/plain": [
       "'3.7.6'"
      ]
     },
     "execution_count": 1,
     "metadata": {},
     "output_type": "execute_result"
    }
   ],
   "source": [
    "# Version Check\n",
    "from platform import python_version\n",
    "python_version()"
   ]
  },
  {
   "cell_type": "markdown",
   "metadata": {},
   "source": [
    "# Table of contents\n",
    "1. [Functions](#func)<br>\n",
    "    1.1. [Defining a Function](#func-def)<br>\n",
    "    1.2. [Calling a Function](#func-call)<br>\n",
    "    1.3. [Positional Arguments](#func-pos)<br>\n",
    "    1.4. [Default Value Parameters](#func-default)<br>\n",
    "    1.5. [Unknown Number of Arguments](#func-unknown)<br>\n",
    "    1.6. [Local vs Global variables use](#func-variables)<br>\n",
    "    1.7. [Nested Functions](#func-nested)<br>\n",
    "2. [While Loop](#while)<br>\n",
    "3. [Classes and Objects](#class)<br>\n",
    "4. [Data Files](#datafiles)<br>\n",
    "    4.1. [Text Files](#datafiles-txt)<br>"
   ]
  },
  {
   "cell_type": "markdown",
   "metadata": {},
   "source": [
    "# 1. Functions  <a name=\"func\"></a>\n",
    "- A function is a block of code which only runs when it is called. You can pass data, known as parameters, into a function. A function can return data as a result. (W3Schools)\n",
    "- A function is a set of statements that take inputs, do some specific computation and produces output. The idea is to put some commonly or repeatedly done task together and make a function, so that instead of writing the same code again and again for different inputs, we can call the function. (geeksforgeeks)"
   ]
  },
  {
   "cell_type": "markdown",
   "metadata": {},
   "source": [
    "\n",
    "![Funtion Definition](https://cdn.askpython.com/wp-content/uploads/2019/06/python-functions.png)"
   ]
  },
  {
   "cell_type": "markdown",
   "metadata": {},
   "source": [
    "### 1.1. Defining a Function <a name=\"func-def\"></a>"
   ]
  },
  {
   "cell_type": "code",
   "execution_count": 2,
   "metadata": {},
   "outputs": [],
   "source": [
    "# Defining a function which has nothing\n",
    "def function_with_nothing_inside():\n",
    "    pass"
   ]
  },
  {
   "cell_type": "code",
   "execution_count": 3,
   "metadata": {},
   "outputs": [],
   "source": [
    "# Defining a function to print \"Hello World!\"\n",
    "def function_which_prints():\n",
    "    print(\"Hello World!\")"
   ]
  },
  {
   "cell_type": "code",
   "execution_count": 4,
   "metadata": {},
   "outputs": [],
   "source": [
    "# Defining a function with a single parameter/argument\n",
    "def function_which_accepts_parameter(parameter):\n",
    "    print(\"Received parameter is \", parameter) #prints the received parameter"
   ]
  },
  {
   "cell_type": "code",
   "execution_count": 5,
   "metadata": {},
   "outputs": [],
   "source": [
    "# Defining a function which displays addition of two parameters\n",
    "def function_which_adds(parameter1, parameter2):\n",
    "    sum_of_parameters = parameter1 + parameter2\n",
    "    print(f\"Sum of {parameter1} and {parameter2} is {sum_of_parameters}\")"
   ]
  },
  {
   "cell_type": "code",
   "execution_count": 10,
   "metadata": {},
   "outputs": [],
   "source": [
    "# Defining a function which returns addition of two parameters\n",
    "def function_which_returns_addition(parameter1, parameter2):\n",
    "    sum_of_parameters = parameter1 + parameter2\n",
    "    return sum_of_parameters"
   ]
  },
  {
   "cell_type": "markdown",
   "metadata": {},
   "source": [
    "### 1.2. Calling a Function <a name=\"func-call\"></a>"
   ]
  },
  {
   "cell_type": "code",
   "execution_count": 6,
   "metadata": {},
   "outputs": [],
   "source": [
    "# Calling a function which has nothing\n",
    "function_with_nothing_inside() #no output"
   ]
  },
  {
   "cell_type": "code",
   "execution_count": 7,
   "metadata": {},
   "outputs": [
    {
     "name": "stdout",
     "output_type": "stream",
     "text": [
      "Hello World!\n"
     ]
    }
   ],
   "source": [
    "# Calling a function which prints \"Hello World!\"\n",
    "function_which_prints()"
   ]
  },
  {
   "cell_type": "code",
   "execution_count": 8,
   "metadata": {},
   "outputs": [
    {
     "name": "stdout",
     "output_type": "stream",
     "text": [
      "Received parameter is  'I am a parameter'\n",
      "Received parameter is  32\n",
      "Received parameter is  (1, 2)\n",
      "Received parameter is  {'key': 23}\n",
      "Received parameter is  [1, '2', (1, 2), {'k': 23}]\n"
     ]
    }
   ],
   "source": [
    "# Calling function with a single parameter/argument\n",
    "function_which_accepts_parameter(\"'I am a parameter'\") #String as a parameter\n",
    "function_which_accepts_parameter(32) #Integer as a parameter\n",
    "function_which_accepts_parameter((1,2)) #Tuple as a parameter\n",
    "function_which_accepts_parameter({'key' : 23}) #Dictionary as a parameter\n",
    "function_which_accepts_parameter([1,'2', (1,2), {'k': 23}]) #List as a parameter"
   ]
  },
  {
   "cell_type": "code",
   "execution_count": 9,
   "metadata": {},
   "outputs": [
    {
     "name": "stdout",
     "output_type": "stream",
     "text": [
      "Sum of 11 and 22 is 33\n",
      "Sum of parameter1 and parameter2 is parameter1parameter2\n",
      "Sum of 1.1 and 2.2 is 3.3000000000000003\n",
      "Sum of [1.1, 1.2] and [2.2, 2.3] is [1.1, 1.2, 2.2, 2.3]\n"
     ]
    }
   ],
   "source": [
    "# Caling function which displays addition of two parameters\n",
    "function_which_adds(11, 22) #adds two integers\n",
    "function_which_adds('parameter1', 'parameter2') #adds(concatenate) two strings\n",
    "function_which_adds(1.1, 2.2) #adds two floats\n",
    "function_which_adds([1.1,1.2], [2.2,2.3]) #adds(concatenate) two lists"
   ]
  },
  {
   "cell_type": "code",
   "execution_count": 11,
   "metadata": {},
   "outputs": [],
   "source": [
    "# Calling function which returns addition of two parameters and strore in variable\n",
    "return_variable1 = function_which_returns_addition(11, 22) #adds two integers\n",
    "return_variable2 = function_which_returns_addition('parameter1', 'parameter2') #adds(concatenate) two strings\n",
    "return_variable3 = function_which_returns_addition(1.1, 2.2) #adds two floats\n",
    "return_variable4 = function_which_returns_addition([1.1,1.2], [2.2,2.3]) #adds(concatenate) two lists"
   ]
  },
  {
   "cell_type": "code",
   "execution_count": 12,
   "metadata": {},
   "outputs": [
    {
     "name": "stdout",
     "output_type": "stream",
     "text": [
      "return_variable1 =  33\n",
      "return_variable2 =  parameter1parameter2\n",
      "return_variable3 =  3.3000000000000003\n",
      "return_variable4 =  [1.1, 1.2, 2.2, 2.3]\n"
     ]
    }
   ],
   "source": [
    "# The functions didn't print anything only returned. Now print the returned values\n",
    "print('return_variable1 = ', return_variable1)\n",
    "print('return_variable2 = ', return_variable2)\n",
    "print('return_variable3 = ', return_variable3)\n",
    "print('return_variable4 = ', return_variable4)"
   ]
  },
  {
   "cell_type": "markdown",
   "metadata": {},
   "source": [
    "### 1.3. Positional Arguments <a name=\"func-pos\"></a>"
   ]
  },
  {
   "cell_type": "code",
   "execution_count": 13,
   "metadata": {},
   "outputs": [],
   "source": [
    "# Defining Function with 3 arguments/parameters\n",
    "def function_with_arguments(parameter1, parameter2, parameter3):\n",
    "    print(f\"First parameter value is {parameter1}\")\n",
    "    print(f\"Second parameter value is {parameter2}\")\n",
    "    print(f\"Third parameter value is {parameter3}\")"
   ]
  },
  {
   "cell_type": "code",
   "execution_count": 14,
   "metadata": {},
   "outputs": [
    {
     "name": "stdout",
     "output_type": "stream",
     "text": [
      "First parameter value is 1\n",
      "Second parameter value is 2\n",
      "Third parameter value is 3\n"
     ]
    }
   ],
   "source": [
    "# Calling function using positional arguments\n",
    "function_with_arguments(parameter1 = 1, parameter2 = 2, parameter3 = 3)"
   ]
  },
  {
   "cell_type": "code",
   "execution_count": 15,
   "metadata": {},
   "outputs": [
    {
     "name": "stdout",
     "output_type": "stream",
     "text": [
      "First parameter value is 3\n",
      "Second parameter value is 2\n",
      "Third parameter value is 1\n"
     ]
    }
   ],
   "source": [
    "# Calling function using positional arguments change\n",
    "function_with_arguments(parameter3 = 1, parameter2 = 2, parameter1 = 3)"
   ]
  },
  {
   "cell_type": "code",
   "execution_count": 16,
   "metadata": {},
   "outputs": [
    {
     "name": "stdout",
     "output_type": "stream",
     "text": [
      "First parameter value is 1\n",
      "Second parameter value is 2\n",
      "Third parameter value is 3\n"
     ]
    }
   ],
   "source": [
    "# Calling function using positional arguments for some imputs\n",
    "function_with_arguments(1, parameter2 = 2, parameter3 = 3)"
   ]
  },
  {
   "cell_type": "code",
   "execution_count": 18,
   "metadata": {},
   "outputs": [
    {
     "ename": "SyntaxError",
     "evalue": "positional argument follows keyword argument (<ipython-input-18-02113cee702e>, line 2)",
     "output_type": "error",
     "traceback": [
      "\u001b[1;36m  File \u001b[1;32m\"<ipython-input-18-02113cee702e>\"\u001b[1;36m, line \u001b[1;32m2\u001b[0m\n\u001b[1;33m    function_with_arguments(1, parameter2 = 2, 3)\u001b[0m\n\u001b[1;37m                                              ^\u001b[0m\n\u001b[1;31mSyntaxError\u001b[0m\u001b[1;31m:\u001b[0m positional argument follows keyword argument\n"
     ]
    }
   ],
   "source": [
    "# Error in Calling function using positional arguments for some imputs\n",
    "function_with_arguments(1, parameter2 = 2, 3)\n",
    "\n",
    "# NOTE: Can not use fixed argument after using positional argument"
   ]
  },
  {
   "cell_type": "code",
   "execution_count": 23,
   "metadata": {},
   "outputs": [
    {
     "ename": "TypeError",
     "evalue": "function_with_arguments() got multiple values for argument 'parameter1'",
     "output_type": "error",
     "traceback": [
      "\u001b[1;31m---------------------------------------------------------------------------\u001b[0m",
      "\u001b[1;31mTypeError\u001b[0m                                 Traceback (most recent call last)",
      "\u001b[1;32m<ipython-input-23-45cc98f64b14>\u001b[0m in \u001b[0;36m<module>\u001b[1;34m\u001b[0m\n\u001b[0;32m      1\u001b[0m \u001b[1;31m# Multiple value for a single argument\u001b[0m\u001b[1;33m\u001b[0m\u001b[1;33m\u001b[0m\u001b[1;33m\u001b[0m\u001b[0m\n\u001b[1;32m----> 2\u001b[1;33m \u001b[0mfunction_with_arguments\u001b[0m\u001b[1;33m(\u001b[0m\u001b[1;36m1\u001b[0m\u001b[1;33m,\u001b[0m \u001b[0mparameter1\u001b[0m \u001b[1;33m=\u001b[0m \u001b[1;36m1\u001b[0m\u001b[1;33m,\u001b[0m \u001b[0mparameter3\u001b[0m \u001b[1;33m=\u001b[0m \u001b[1;36m3\u001b[0m\u001b[1;33m)\u001b[0m\u001b[1;33m\u001b[0m\u001b[1;33m\u001b[0m\u001b[0m\n\u001b[0m\u001b[0;32m      3\u001b[0m \u001b[1;33m\u001b[0m\u001b[0m\n\u001b[0;32m      4\u001b[0m \u001b[1;31m# NOTE: (1) Function tried to assign 1 to parameter1\u001b[0m\u001b[1;33m\u001b[0m\u001b[1;33m\u001b[0m\u001b[1;33m\u001b[0m\u001b[0m\n\u001b[0;32m      5\u001b[0m \u001b[1;31m#       (2) Then it tried to assign again to same parameter using positional argument\u001b[0m\u001b[1;33m\u001b[0m\u001b[1;33m\u001b[0m\u001b[1;33m\u001b[0m\u001b[0m\n",
      "\u001b[1;31mTypeError\u001b[0m: function_with_arguments() got multiple values for argument 'parameter1'"
     ]
    }
   ],
   "source": [
    "# Multiple value for a single argument\n",
    "function_with_arguments(1, parameter1 = 1, parameter3 = 3)\n",
    "\n",
    "# NOTE: (1) Function tried to assign 1 to parameter1\n",
    "#       (2) Then it tried to assign again to same parameter using positional argument"
   ]
  },
  {
   "cell_type": "markdown",
   "metadata": {},
   "source": [
    "### 1.4. Default Value Parameters <a name=\"func-default\"></a>"
   ]
  },
  {
   "cell_type": "code",
   "execution_count": 29,
   "metadata": {},
   "outputs": [
    {
     "ename": "SyntaxError",
     "evalue": "non-default argument follows default argument (<ipython-input-29-e1b54265c082>, line 2)",
     "output_type": "error",
     "traceback": [
      "\u001b[1;36m  File \u001b[1;32m\"<ipython-input-29-e1b54265c082>\"\u001b[1;36m, line \u001b[1;32m2\u001b[0m\n\u001b[1;33m    def whats_ur_name(first, middle = \"\", last):\u001b[0m\n\u001b[1;37m                     ^\u001b[0m\n\u001b[1;31mSyntaxError\u001b[0m\u001b[1;31m:\u001b[0m non-default argument follows default argument\n"
     ]
    }
   ],
   "source": [
    "# function with a default value parameter\n",
    "def whats_ur_name(first, middle = \"\", last): \n",
    "    print(first + middle + last)\n",
    "\n",
    "# NOTE: you can't use non-default argument ('last' in this case) after default one"
   ]
  },
  {
   "cell_type": "code",
   "execution_count": 27,
   "metadata": {},
   "outputs": [
    {
     "name": "stdout",
     "output_type": "stream",
     "text": [
      "razasaleemikhalid\n",
      "razakhalidsaleemi\n"
     ]
    }
   ],
   "source": [
    "# function with default value parameter in the end\n",
    "def whats_ur_name(first, last, middle = \"\"): #remember the position\n",
    "    print(first + middle + last)\n",
    "\n",
    "whats_ur_name('raza','khalid','saleemi') # my name \"Raza Khalid Saleemi\"\n",
    "\n",
    "# NOTE: The positioning is very important\n",
    "\n",
    "# Using positional arguments\n",
    "whats_ur_name(first='raza', middle='khalid', last='saleemi')"
   ]
  },
  {
   "cell_type": "code",
   "execution_count": 28,
   "metadata": {},
   "outputs": [
    {
     "name": "stdout",
     "output_type": "stream",
     "text": [
      "ImranKhan\n"
     ]
    }
   ],
   "source": [
    "# What's the use of default ???\n",
    "# If someone without a middle name then He may skip the middle name like this....\n",
    "whats_ur_name('Imran','Khan') # not using middle or third argument"
   ]
  },
  {
   "cell_type": "markdown",
   "metadata": {},
   "source": [
    "### 1.5. Unknown Number of Arguments <a name=\"func-unknown\"></a>"
   ]
  },
  {
   "cell_type": "code",
   "execution_count": 37,
   "metadata": {},
   "outputs": [],
   "source": [
    "# To deal with unknown parameters we use (*)\n",
    "# Following function deals with 2 or more parameters\n",
    "def fucntion_TwoOrMore(fixed_parameter1, fixed_parameter2, *rest_of_unknown):\n",
    "    print(f\"First parameter value is {fixed_parameter1}\")\n",
    "    print(f\"Second parameter value is {fixed_parameter2}\")\n",
    "    print(f\"Third parameter value is {rest_of_unknown}\")"
   ]
  },
  {
   "cell_type": "code",
   "execution_count": 38,
   "metadata": {},
   "outputs": [
    {
     "name": "stdout",
     "output_type": "stream",
     "text": [
      "First parameter value is 1\n",
      "Second parameter value is 2\n",
      "Third parameter value is (3, 4)\n"
     ]
    }
   ],
   "source": [
    "#calling function by giving it 4 parameters\n",
    "fucntion_TwoOrMore(1,2,3,4)"
   ]
  },
  {
   "cell_type": "code",
   "execution_count": 39,
   "metadata": {},
   "outputs": [
    {
     "name": "stdout",
     "output_type": "stream",
     "text": [
      "First parameter value is 1\n",
      "Second parameter value is 2\n",
      "Third parameter value is (3,)\n"
     ]
    }
   ],
   "source": [
    "#calling function by giving it 3 parameters\n",
    "fucntion_TwoOrMore(1,2,3)"
   ]
  },
  {
   "cell_type": "code",
   "execution_count": 40,
   "metadata": {},
   "outputs": [
    {
     "name": "stdout",
     "output_type": "stream",
     "text": [
      "First parameter value is 1\n",
      "Second parameter value is 2\n",
      "Third parameter value is ()\n"
     ]
    }
   ],
   "source": [
    "#calling function by giving it 2 parameters\n",
    "fucntion_TwoOrMore(1,2)"
   ]
  },
  {
   "cell_type": "markdown",
   "metadata": {},
   "source": [
    "#### More Examples on Unknown Arguments\n",
    "#### Example1"
   ]
  },
  {
   "cell_type": "code",
   "execution_count": 57,
   "metadata": {},
   "outputs": [],
   "source": [
    "#Example:1\n",
    "def abc(*l,x,y,z):\n",
    "    return x+y+z+sum(l)"
   ]
  },
  {
   "cell_type": "code",
   "execution_count": 58,
   "metadata": {},
   "outputs": [
    {
     "data": {
      "text/plain": [
       "48"
      ]
     },
     "execution_count": 58,
     "metadata": {},
     "output_type": "execute_result"
    }
   ],
   "source": [
    "abc(1, 7, 9, x=1, y=10, z=20)"
   ]
  },
  {
   "cell_type": "code",
   "execution_count": 63,
   "metadata": {},
   "outputs": [],
   "source": [
    "#TypeError: abc() missing 3 required keyword-only arguments: 'x', 'y', and 'z'\n",
    "#abc(5, 5, 5, 1, 2, 3)"
   ]
  },
  {
   "cell_type": "code",
   "execution_count": 60,
   "metadata": {},
   "outputs": [
    {
     "data": {
      "text/plain": [
       "27"
      ]
     },
     "execution_count": 60,
     "metadata": {},
     "output_type": "execute_result"
    }
   ],
   "source": [
    "abc(9, 3, 3, 3, 3, z=1, x=2, y=3)"
   ]
  },
  {
   "cell_type": "code",
   "execution_count": 62,
   "metadata": {},
   "outputs": [],
   "source": [
    "#SyntaxError: positional argument follows keyword argument\n",
    "#abc(z=1, x=2, y=3, 1, 3, 4)"
   ]
  },
  {
   "cell_type": "code",
   "execution_count": 65,
   "metadata": {},
   "outputs": [
    {
     "data": {
      "text/plain": [
       "6"
      ]
     },
     "execution_count": 65,
     "metadata": {},
     "output_type": "execute_result"
    }
   ],
   "source": [
    "abc(z=1, x=2, y=3)"
   ]
  },
  {
   "cell_type": "markdown",
   "metadata": {},
   "source": [
    "#### Example2"
   ]
  },
  {
   "cell_type": "code",
   "execution_count": 66,
   "metadata": {},
   "outputs": [],
   "source": [
    "def new_function(a,b,c):\n",
    "    return a+b+c"
   ]
  },
  {
   "cell_type": "code",
   "execution_count": 67,
   "metadata": {},
   "outputs": [
    {
     "data": {
      "text/plain": [
       "7"
      ]
     },
     "execution_count": 67,
     "metadata": {},
     "output_type": "execute_result"
    }
   ],
   "source": [
    "new_function(1,2,4)"
   ]
  },
  {
   "cell_type": "code",
   "execution_count": 71,
   "metadata": {},
   "outputs": [
    {
     "data": {
      "text/plain": [
       "7"
      ]
     },
     "execution_count": 71,
     "metadata": {},
     "output_type": "execute_result"
    }
   ],
   "source": [
    "l = [1,2,4]; new_function(a=1,b=2,c=4)"
   ]
  },
  {
   "cell_type": "code",
   "execution_count": 70,
   "metadata": {},
   "outputs": [],
   "source": [
    "#l = [1,2,4]; new_function(**l)\n",
    "#TypeError: argument after ** must be a mapping, not list"
   ]
  },
  {
   "cell_type": "code",
   "execution_count": 72,
   "metadata": {},
   "outputs": [
    {
     "data": {
      "text/plain": [
       "7"
      ]
     },
     "execution_count": 72,
     "metadata": {},
     "output_type": "execute_result"
    }
   ],
   "source": [
    "d = {\"a\":1, \"b\":2, \"c\":4}; new_function(**d)"
   ]
  },
  {
   "cell_type": "code",
   "execution_count": 73,
   "metadata": {},
   "outputs": [
    {
     "data": {
      "text/plain": [
       "7"
      ]
     },
     "execution_count": 73,
     "metadata": {},
     "output_type": "execute_result"
    }
   ],
   "source": [
    "l = [1,2,4]; new_function(*l)"
   ]
  },
  {
   "cell_type": "markdown",
   "metadata": {},
   "source": [
    "#### Example3"
   ]
  },
  {
   "cell_type": "code",
   "execution_count": 83,
   "metadata": {},
   "outputs": [
    {
     "ename": "SyntaxError",
     "evalue": "invalid syntax (<ipython-input-83-d80d39ba0ebb>, line 1)",
     "output_type": "error",
     "traceback": [
      "\u001b[1;36m  File \u001b[1;32m\"<ipython-input-83-d80d39ba0ebb>\"\u001b[1;36m, line \u001b[1;32m1\u001b[0m\n\u001b[1;33m    def abc(*l1,a,b,c*l2):\u001b[0m\n\u001b[1;37m                     ^\u001b[0m\n\u001b[1;31mSyntaxError\u001b[0m\u001b[1;31m:\u001b[0m invalid syntax\n"
     ]
    }
   ],
   "source": [
    "def abc(*l1,a,b,c*l2): \n",
    "    return sum(l1)+sum(l2)+a,b,c"
   ]
  },
  {
   "cell_type": "markdown",
   "metadata": {},
   "source": [
    "#### Example4"
   ]
  },
  {
   "cell_type": "code",
   "execution_count": 85,
   "metadata": {},
   "outputs": [
    {
     "data": {
      "text/plain": [
       "21"
      ]
     },
     "execution_count": 85,
     "metadata": {},
     "output_type": "execute_result"
    }
   ],
   "source": [
    "def abc(*l1,a,b,c):\n",
    "    return sum(l1)+a+b+c\n",
    "abc(1,2,3,5,a=5,b=2,c=3)"
   ]
  },
  {
   "cell_type": "markdown",
   "metadata": {},
   "source": [
    "#### Example5"
   ]
  },
  {
   "cell_type": "code",
   "execution_count": 88,
   "metadata": {},
   "outputs": [
    {
     "name": "stdout",
     "output_type": "stream",
     "text": [
      "6 8\n",
      "(1, 3, 4)\n",
      "{'x': 1, 'y': 2}\n"
     ]
    }
   ],
   "source": [
    "def abc(a,b,*l,**d):\n",
    "    print(a,b); print(l); print(d)\n",
    "\n",
    "l1 = [1,3,4]\n",
    "d1 = {'x':1,'y':2}\n",
    "abc(6,8,*l1,**d1)"
   ]
  },
  {
   "cell_type": "markdown",
   "metadata": {},
   "source": [
    "#### Example6"
   ]
  },
  {
   "cell_type": "code",
   "execution_count": 87,
   "metadata": {},
   "outputs": [
    {
     "data": {
      "text/plain": [
       "15"
      ]
     },
     "execution_count": 87,
     "metadata": {},
     "output_type": "execute_result"
    }
   ],
   "source": [
    "def abc(a,b,c,*l1): return sum(l1)+a+b+c\n",
    "abc(1,2,3,4,5)"
   ]
  },
  {
   "cell_type": "markdown",
   "metadata": {},
   "source": [
    "### 1.6. Local vs Global variables use <a name=\"func-variables\"></a>"
   ]
  },
  {
   "cell_type": "code",
   "execution_count": 44,
   "metadata": {},
   "outputs": [
    {
     "name": "stdout",
     "output_type": "stream",
     "text": [
      "Local\n",
      "Global\n"
     ]
    }
   ],
   "source": [
    "# Global variable is variable defined outside function scope and still function can access it\n",
    "i_am_global_variable = \"Global\"\n",
    "\n",
    "def print_local():\n",
    "    i_am_local_variable = \"Local\"\n",
    "    print(i_am_local_variable) #printing Local\n",
    "\n",
    "def print_global():\n",
    "    i_am_local_variable = \"Local\"\n",
    "    print(i_am_global_variable) #printing Global\n",
    "    \n",
    "print_local()\n",
    "print_global()"
   ]
  },
  {
   "cell_type": "code",
   "execution_count": 42,
   "metadata": {},
   "outputs": [
    {
     "ename": "NameError",
     "evalue": "name 'i_am_local_variable' is not defined",
     "output_type": "error",
     "traceback": [
      "\u001b[1;31m---------------------------------------------------------------------------\u001b[0m",
      "\u001b[1;31mNameError\u001b[0m                                 Traceback (most recent call last)",
      "\u001b[1;32m<ipython-input-42-faf7e52c8d45>\u001b[0m in \u001b[0;36m<module>\u001b[1;34m\u001b[0m\n\u001b[0;32m      1\u001b[0m \u001b[1;31m#Now let us Check if local variable still exists\u001b[0m\u001b[1;33m\u001b[0m\u001b[1;33m\u001b[0m\u001b[1;33m\u001b[0m\u001b[0m\n\u001b[1;32m----> 2\u001b[1;33m \u001b[0mprint\u001b[0m\u001b[1;33m(\u001b[0m\u001b[0mi_am_local_variable\u001b[0m\u001b[1;33m)\u001b[0m\u001b[1;33m\u001b[0m\u001b[1;33m\u001b[0m\u001b[0m\n\u001b[0m",
      "\u001b[1;31mNameError\u001b[0m: name 'i_am_local_variable' is not defined"
     ]
    }
   ],
   "source": [
    "#Now let us Check if local variable still exists\n",
    "print(i_am_local_variable)"
   ]
  },
  {
   "cell_type": "code",
   "execution_count": 45,
   "metadata": {},
   "outputs": [
    {
     "name": "stdout",
     "output_type": "stream",
     "text": [
      "Global\n"
     ]
    }
   ],
   "source": [
    "#Now let us Check if global variable still exists\n",
    "print(i_am_global_variable)"
   ]
  },
  {
   "cell_type": "markdown",
   "metadata": {},
   "source": [
    "- Global Variable Still Exists (out of funcion) But not Local Variable"
   ]
  },
  {
   "cell_type": "markdown",
   "metadata": {},
   "source": [
    "### 1.7. Nested Functions <a name=\"func-nested\"></a>"
   ]
  },
  {
   "cell_type": "code",
   "execution_count": 46,
   "metadata": {},
   "outputs": [],
   "source": [
    "def functionXYZ():\n",
    "    print(\"Entered XYZ function\")\n",
    "    \n",
    "def upperFunction():\n",
    "    print(\"Entered Upper Function\")\n",
    "    functionXYZ() #calling function inside function"
   ]
  },
  {
   "cell_type": "code",
   "execution_count": 47,
   "metadata": {},
   "outputs": [
    {
     "name": "stdout",
     "output_type": "stream",
     "text": [
      "Entered Upper Function\n",
      "Entered XYZ function\n"
     ]
    }
   ],
   "source": [
    "upperFunction()"
   ]
  },
  {
   "cell_type": "code",
   "execution_count": 49,
   "metadata": {},
   "outputs": [],
   "source": [
    "def calculator(num1, num2, operation = \"+\"):\n",
    "    if(operation==\"+\" ):\n",
    "        return num1 + num2\n",
    "    elif(operation==\"-\"):\n",
    "        return num1 - num2\n",
    "    elif(operation==\"/\"):\n",
    "        return num1 / num2\n",
    "    elif(operation==\"//\"):\n",
    "        return num1 // num2\n",
    "    elif(operation==\"*\" or operation==\"x\" ):\n",
    "        return num1 * num2\n",
    "    elif(operation==\"^\"):\n",
    "        return num1 ^ num2\n",
    "    elif(operation==\"**\"):\n",
    "        return num1 ** num2\n",
    "    else:\n",
    "        print(\"Unknown Operation\")\n",
    "        return None"
   ]
  },
  {
   "cell_type": "code",
   "execution_count": 50,
   "metadata": {},
   "outputs": [
    {
     "data": {
      "text/plain": [
       "0.5"
      ]
     },
     "execution_count": 50,
     "metadata": {},
     "output_type": "execute_result"
    }
   ],
   "source": [
    "calculator(1,2,'/')"
   ]
  },
  {
   "cell_type": "code",
   "execution_count": 51,
   "metadata": {},
   "outputs": [
    {
     "data": {
      "text/plain": [
       "8"
      ]
     },
     "execution_count": 51,
     "metadata": {},
     "output_type": "execute_result"
    }
   ],
   "source": [
    "calculator(2,3,'**')"
   ]
  },
  {
   "cell_type": "code",
   "execution_count": 52,
   "metadata": {},
   "outputs": [
    {
     "data": {
      "text/plain": [
       "2"
      ]
     },
     "execution_count": 52,
     "metadata": {},
     "output_type": "execute_result"
    }
   ],
   "source": [
    "calculator(1,2,'x')"
   ]
  },
  {
   "cell_type": "code",
   "execution_count": 53,
   "metadata": {},
   "outputs": [
    {
     "name": "stdout",
     "output_type": "stream",
     "text": [
      "Unknown Operation\n"
     ]
    }
   ],
   "source": [
    "calculator(1,2,'y')"
   ]
  },
  {
   "cell_type": "markdown",
   "metadata": {},
   "source": [
    "#### More Examples on Nested Functions\n",
    "#### Example1 (Nested + global/local veriables)"
   ]
  },
  {
   "cell_type": "code",
   "execution_count": 78,
   "metadata": {},
   "outputs": [
    {
     "name": "stdout",
     "output_type": "stream",
     "text": [
      "a = 20\n"
     ]
    }
   ],
   "source": [
    "def outerFunction():\n",
    "    global a\n",
    "    a = 20\n",
    "    def innerFunction(): # defined function, not called\n",
    "        global a\n",
    "        a = 30\n",
    "        print('a =', a)\n",
    "\n",
    "a = 10\n",
    "outerFunction()\n",
    "print('a =', a)"
   ]
  },
  {
   "cell_type": "markdown",
   "metadata": {},
   "source": [
    "# 2. While Loop  <a name=\"while\"></a>"
   ]
  },
  {
   "cell_type": "code",
   "execution_count": 89,
   "metadata": {},
   "outputs": [
    {
     "name": "stdout",
     "output_type": "stream",
     "text": [
      "10\n",
      "9\n",
      "8\n",
      "7\n",
      "6\n",
      "5\n",
      "4\n",
      "3\n",
      "2\n",
      "1\n"
     ]
    }
   ],
   "source": [
    "#printing 10 to 1 using while loop\n",
    "a = 10\n",
    "while(a>0):\n",
    "    print(a)\n",
    "    a-=1"
   ]
  },
  {
   "cell_type": "code",
   "execution_count": 90,
   "metadata": {},
   "outputs": [
    {
     "name": "stdout",
     "output_type": "stream",
     "text": [
      "Enter the input: raza\n",
      "Enter the input: khalid\n",
      "Enter the input: saleemi\n",
      "Enter the input: helloo\n",
      "Enter the input: 123\n",
      "Enter the input: exit\n",
      "Enter the input: Q\n",
      "User Inputs:  ['raza', 'khalid', 'saleemi', 'helloo', '123', 'exit']\n"
     ]
    }
   ],
   "source": [
    "#checking user input for \"Q\" to quit the input taking\n",
    "flag = True\n",
    "inputarray = []\n",
    "while(flag):\n",
    "    userInput = input(\"Enter the input: \")\n",
    "    if(userInput == 'Q'):\n",
    "        flag = False\n",
    "    else:\n",
    "        inputarray.append(userInput)\n",
    "\n",
    "print(\"User Inputs: \", inputarray)"
   ]
  },
  {
   "cell_type": "markdown",
   "metadata": {},
   "source": [
    "#### More Examples on While loop\n",
    "#### Example1"
   ]
  },
  {
   "cell_type": "code",
   "execution_count": 93,
   "metadata": {},
   "outputs": [],
   "source": [
    "s = \"\"\n",
    "n = 5\n",
    "while n >0:\n",
    "    n -= 1\n",
    "    if(n % 2) == 0:\n",
    "        continue\n",
    "        \n",
    "    a = ['A', 'B', 'C']\n",
    "    while a:\n",
    "        s += str(n) + a.pop(0)\n",
    "        if len(a) < 2:\n",
    "            break"
   ]
  },
  {
   "cell_type": "code",
   "execution_count": 94,
   "metadata": {},
   "outputs": [
    {
     "name": "stdout",
     "output_type": "stream",
     "text": [
      "3A3B1A1B\n"
     ]
    }
   ],
   "source": [
    "print(s)"
   ]
  },
  {
   "cell_type": "markdown",
   "metadata": {},
   "source": [
    "#### Example2"
   ]
  },
  {
   "cell_type": "code",
   "execution_count": 109,
   "metadata": {},
   "outputs": [
    {
     "name": "stdout",
     "output_type": "stream",
     "text": [
      "('baz', 3)\n",
      "('bar', 2)\n",
      "('foo', 1)\n",
      "Done\n"
     ]
    }
   ],
   "source": [
    "d = {'foo': 1, 'bar': 2, 'baz': 3}\n",
    "while d:\n",
    "    print(d.popitem())\n",
    "print('Done')"
   ]
  },
  {
   "cell_type": "code",
   "execution_count": null,
   "metadata": {},
   "outputs": [],
   "source": []
  },
  {
   "cell_type": "markdown",
   "metadata": {},
   "source": [
    "# 3. Classes and objects <a name=\"class\"></a>\n",
    "- A class is a user-defined **blueprint** or prototype from which objects are created. Classes provide a means of bundling data and functionality together. Creating a new class creates a new type of object, allowing new instances of that type to be made. Each class instance can have attributes attached to it for maintaining its state. Class instances can also have methods (defined by its class) for modifying its state. (geeksforgeeks)<br>\n",
    "<br>\n",
    "- Class creates a user-defined data structure, which holds its own data members and member functions, which can be accessed and used by creating an instance of that class. A class is like a **blueprint** for an object. (geeksforgeeks)<br>\n",
    "\n",
    "**Some points on Python class:**\n",
    "    - Classes are created by keyword class.\n",
    "    - Attributes are the variables that belong to class.\n",
    "    - Attributes are always public and can be accessed using dot (.) operator. Eg.: Myclass.Myattribute"
   ]
  },
  {
   "cell_type": "markdown",
   "metadata": {},
   "source": [
    "<img src=\"https://3.bp.blogspot.com/-oHSmnHaNHBM/WIqBtaQ0rBI/AAAAAAAAAOA/QfejlKie_-AvvLj_7TrV-Lm6iL7xDniWgCLcB/s1600/AnatomyClass.png\" alt=\"AnatomyClass\">"
   ]
  },
  {
   "cell_type": "code",
   "execution_count": 92,
   "metadata": {},
   "outputs": [
    {
     "name": "stdout",
     "output_type": "stream",
     "text": [
      "Hello, my name is Raza\n"
     ]
    }
   ],
   "source": [
    "# A Sample class with init method  (geeksforgeeks)\n",
    "class Person:  \n",
    "    \n",
    "    # init method or constructor   \n",
    "    def __init__(self, name):  \n",
    "        self.name = name  \n",
    "    \n",
    "    # Sample Method   \n",
    "    def say_hi(self):  \n",
    "        print('Hello, my name is', self.name)  \n",
    "    \n",
    "p = Person('Raza')  \n",
    "p.say_hi()  "
   ]
  },
  {
   "cell_type": "markdown",
   "metadata": {},
   "source": [
    "#### More Examples on Classes\n",
    "#### Example1"
   ]
  },
  {
   "cell_type": "code",
   "execution_count": 95,
   "metadata": {},
   "outputs": [],
   "source": [
    "class Point:\n",
    "    def __init__(self, x=0, y=0):\n",
    "        self.x = x\n",
    "        self.y = y\n",
    "        \n",
    "    def __sub__(self, other): # \"-\" operator overloading\n",
    "        x = self.x + other.x\n",
    "        y = self.y + other.y\n",
    "        return Point(x,y)"
   ]
  },
  {
   "cell_type": "code",
   "execution_count": 99,
   "metadata": {},
   "outputs": [
    {
     "name": "stdout",
     "output_type": "stream",
     "text": [
      "Type of result:  <class '__main__.Point'>\n",
      "<__main__.Point object at 0x000001E1A103B248>\n",
      "4 6\n",
      "The result is addition as we overloded the method and perform addition inside new method\n"
     ]
    }
   ],
   "source": [
    "p1 = Point(3,4)\n",
    "p2 = Point(1,2)\n",
    "result = p1 - p2\n",
    "print(\"Type of result: \", type(result))\n",
    "print(result)\n",
    "print(result.x, result.y)\n",
    "print(\"The result is addition as we overloded the method and perform addition inside new method\")"
   ]
  },
  {
   "cell_type": "markdown",
   "metadata": {},
   "source": [
    "#### Example2"
   ]
  },
  {
   "cell_type": "code",
   "execution_count": 107,
   "metadata": {},
   "outputs": [
    {
     "name": "stdout",
     "output_type": "stream",
     "text": [
      "8.7\n"
     ]
    }
   ],
   "source": [
    "class student:\n",
    "    def __init__(self):\n",
    "        self.marks = 97\n",
    "        self.cgpa = 8.7\n",
    "    \n",
    "    def display(self):\n",
    "        print(self.marks)\n",
    "        \n",
    "obj = student()\n",
    "print(obj.cgpa)"
   ]
  },
  {
   "cell_type": "code",
   "execution_count": 108,
   "metadata": {},
   "outputs": [
    {
     "name": "stdout",
     "output_type": "stream",
     "text": [
      "8.7\n"
     ]
    }
   ],
   "source": [
    "obj2 = obj\n",
    "del obj\n",
    "print(obj2.cgpa)\n",
    "#obj and obj2 both were reference to an object\n",
    "#when we deleted obj, object was not deleted, but only reference\n",
    "#we still have access to object using obj2 (an other reference)"
   ]
  },
  {
   "cell_type": "markdown",
   "metadata": {},
   "source": [
    "#### Example3"
   ]
  },
  {
   "cell_type": "code",
   "execution_count": 115,
   "metadata": {},
   "outputs": [],
   "source": [
    "class Dog:\n",
    "    total = 0\n",
    "    def __init__(self, name, age):\n",
    "        self.name =  name\n",
    "        self.age = age\n",
    "        Dog.total += 1"
   ]
  },
  {
   "cell_type": "code",
   "execution_count": 116,
   "metadata": {},
   "outputs": [
    {
     "name": "stdout",
     "output_type": "stream",
     "text": [
      "Tommy\n",
      "1\n"
     ]
    }
   ],
   "source": [
    "obj = Dog(\"Tommy\",5)\n",
    "print(obj.name)\n",
    "print(obj.total)"
   ]
  },
  {
   "cell_type": "markdown",
   "metadata": {},
   "source": [
    "#### Example4"
   ]
  },
  {
   "cell_type": "code",
   "execution_count": 117,
   "metadata": {},
   "outputs": [
    {
     "name": "stdout",
     "output_type": "stream",
     "text": [
      "2\n"
     ]
    }
   ],
   "source": [
    "class Parent:\n",
    "    def __init__(self):\n",
    "        self.x = 1\n",
    "    def change(self):\n",
    "        self.x = 10\n",
    "\n",
    "class Child(Parent):\n",
    "    def change(self):\n",
    "        self.x = self.x+1\n",
    "        return self.x\n",
    "    \n",
    "def main():\n",
    "    obj = Child()\n",
    "    print(obj.change())\n",
    "\n",
    "main()"
   ]
  },
  {
   "cell_type": "markdown",
   "metadata": {},
   "source": [
    "# 4. Data Files <a name=\"datafiles\"></a>\n",
    "    - To read and write data into flat files, such as CSV, JSON, text files, etc"
   ]
  },
  {
   "cell_type": "markdown",
   "metadata": {},
   "source": [
    "### 4.1. Text files <a name=\"datafiles-txt\"></a>"
   ]
  },
  {
   "cell_type": "code",
   "execution_count": 131,
   "metadata": {},
   "outputs": [],
   "source": [
    "# WRITE MODE \"w\"\n",
    "# creating if not created, a file for writing\n",
    "with open(\"newfile.txt\", \"w\") as file:\n",
    "    file.write(\"I am writing this text to this file....\")\n",
    "\n",
    "#file.write(\"Trying to write out of 'with' scope\")\n",
    "#ValueError: I/O operation on closed file."
   ]
  },
  {
   "cell_type": "code",
   "execution_count": 132,
   "metadata": {},
   "outputs": [
    {
     "name": "stdout",
     "output_type": "stream",
     "text": [
      "I am writing this text to this file....\n"
     ]
    }
   ],
   "source": [
    "# READ MODE \"r\"\n",
    "# opening an existing file using read mode\n",
    "with open(\"newfile.txt\", \"r\") as file:\n",
    "    contents = file.read()\n",
    "    \n",
    "print(contents)"
   ]
  },
  {
   "cell_type": "code",
   "execution_count": 133,
   "metadata": {},
   "outputs": [
    {
     "name": "stdout",
     "output_type": "stream",
     "text": [
      "I am writing this text to this file....Appending this text...\n"
     ]
    }
   ],
   "source": [
    "# APPEND MODE \"a\"\n",
    "# appending data to the current file\n",
    "with open(\"newfile.txt\", \"a\") as file:\n",
    "    file.write(\"Appending this text...\")\n",
    "    #contents = file.read() #UnsupportedOperation: not readable\n",
    "    \n",
    "# opening that file again using read mode\n",
    "with open(\"newfile.txt\", \"r\") as file:\n",
    "    contents = file.read()\n",
    "    \n",
    "print(contents)"
   ]
  },
  {
   "cell_type": "code",
   "execution_count": 135,
   "metadata": {},
   "outputs": [
    {
     "name": "stdout",
     "output_type": "stream",
     "text": [
      "Writing this text...\n"
     ]
    }
   ],
   "source": [
    "# Read and Write MODE with file create if not exist \"w+\"\n",
    "with open(\"abc.txt\", \"w+\") as file:\n",
    "    file.write(\"Writing this text...\")\n",
    "    file.seek(0) # go to start\n",
    "    contents = file.read()\n",
    "print(contents)"
   ]
  },
  {
   "cell_type": "code",
   "execution_count": 136,
   "metadata": {},
   "outputs": [
    {
     "name": "stdout",
     "output_type": "stream",
     "text": [
      "Writing this text...\n",
      "Writing this text...Writing this text...\n"
     ]
    }
   ],
   "source": [
    "# Read and Write MODE if only file exist \"r+\"\n",
    "with open(\"abc.txt\", \"r+\") as file:\n",
    "    contents = file.read() # reading contents\n",
    "    print(contents)\n",
    "    file.write(contents) # writing contents\n",
    "    file.seek(0)\n",
    "    New_contents = file.read() # reading current contents \n",
    "    print(New_contents)\n",
    "    "
   ]
  },
  {
   "cell_type": "code",
   "execution_count": null,
   "metadata": {},
   "outputs": [],
   "source": []
  }
 ],
 "metadata": {
  "kernelspec": {
   "display_name": "Python 3",
   "language": "python",
   "name": "python3"
  },
  "language_info": {
   "codemirror_mode": {
    "name": "ipython",
    "version": 3
   },
   "file_extension": ".py",
   "mimetype": "text/x-python",
   "name": "python",
   "nbconvert_exporter": "python",
   "pygments_lexer": "ipython3",
   "version": "3.7.6"
  }
 },
 "nbformat": 4,
 "nbformat_minor": 4
}
