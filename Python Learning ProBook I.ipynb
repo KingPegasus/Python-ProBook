{
 "cells": [
  {
   "cell_type": "markdown",
   "metadata": {},
   "source": [
    "# Python Learning ProBook I\n",
    "## Made By: [Muhammad Raza Khalid Saleemi](https://www.linkedin.com/in/muhammad-raza-khalid-saleemi/)\n",
    "\n",
    "## Let's Connect on [Linkedin](https://www.linkedin.com/in/muhammad-raza-khalid-saleemi/) \n",
    "\n",
    "## This notebook is not completed stay tuned by clicking STAR Button ⭐\n"
   ]
  },
  {
   "cell_type": "markdown",
   "metadata": {},
   "source": [
    "# Table of contents\n",
    "1. [Variables](#variables)\n",
    "2. [Operators](#operators)\n",
    "3. [Print](#print)\n",
    "4. [Strings](#strings)\n",
    "5. [For loop](#for)\n",
    "6. [Dictionary](#dictionary)\n",
    "\n",
    "    a. [Dictionary Creation](#dic-creation)\n",
    "    \n",
    "    b. [Dictionary Deletion](#dic-deletion)\n",
    "    \n",
    "    c. [Dictionary key-value pair deletion](#dic-kv-deletion)\n",
    "    \n",
    "    d. [Dictionary Mix type Keys and insertion](#dic-mix-keys)\n",
    "    \n",
    "    e. [Dictionary Tuple as a key](#dic-keytuple)\n",
    "    \n",
    "    f. [Looping through Dictionary](#dic-loop)\n",
    "    \n",
    "    g. [Compare Dictionaries](#dic-cmp) \n",
    "    \n",
    "    h. [Finding key in Dictionary](#dic-find)\n",
    "    \n",
    "    g. [Using popitem and pop on Dictionary](#dic-pop)\n",
    "    \n",
    "    i. [Dictionary Examples](#dic-exp)\n",
    "    \n",
    "7. [List](#list)\n",
    "8. [Set](#set)"
   ]
  },
  {
   "cell_type": "code",
   "execution_count": 1,
   "metadata": {},
   "outputs": [
    {
     "data": {
      "text/plain": [
       "'3.7.6'"
      ]
     },
     "execution_count": 1,
     "metadata": {},
     "output_type": "execute_result"
    }
   ],
   "source": [
    "from platform import python_version\n",
    "python_version()"
   ]
  },
  {
   "cell_type": "markdown",
   "metadata": {},
   "source": [
    "## Variables <a name=\"variables\"></a>"
   ]
  },
  {
   "cell_type": "code",
   "execution_count": 2,
   "metadata": {},
   "outputs": [
    {
     "name": "stdout",
     "output_type": "stream",
     "text": [
      "('raza', 'r', 'foo')\n"
     ]
    }
   ],
   "source": [
    "my_string_1 ='raza'\n",
    "_ = 'r'\n",
    "foo = 'foo'\n",
    "#1st_string = 'r' #Syntax Error\n",
    "print((my_string_1, _, foo))"
   ]
  },
  {
   "cell_type": "code",
   "execution_count": 3,
   "metadata": {},
   "outputs": [
    {
     "name": "stdout",
     "output_type": "stream",
     "text": [
      "(1, 1, 1)\n"
     ]
    }
   ],
   "source": [
    "_a = 1\n",
    "__str__ = 1\n",
    "__a = 1\n",
    "\n",
    "print((_a, __str__, __a))"
   ]
  },
  {
   "cell_type": "markdown",
   "metadata": {},
   "source": [
    "## Operators <a name=\"operators\"></a>"
   ]
  },
  {
   "cell_type": "code",
   "execution_count": 4,
   "metadata": {},
   "outputs": [
    {
     "name": "stdout",
     "output_type": "stream",
     "text": [
      "5.5\n",
      "5.5\n"
     ]
    }
   ],
   "source": [
    "x = 1 / 2.0 + 3 // 3 + 4 ** 1\n",
    "print(x)\n",
    "\n",
    "y = (1 / 2.0) + (3 // 3) + (4 ** 1)\n",
    "print(y)"
   ]
  },
  {
   "cell_type": "code",
   "execution_count": 5,
   "metadata": {},
   "outputs": [
    {
     "name": "stdout",
     "output_type": "stream",
     "text": [
      "0\n",
      "0\n"
     ]
    }
   ],
   "source": [
    "A = 16\n",
    "S = 15\n",
    "print(A % S // A)\n",
    "\n",
    "print( (A % S) // A)\n",
    "\n",
    "#print(A % (S // A) ) #ZeroDivisionError"
   ]
  },
  {
   "cell_type": "markdown",
   "metadata": {},
   "source": [
    "## Print <a name=\"print\"></a>"
   ]
  },
  {
   "cell_type": "code",
   "execution_count": 6,
   "metadata": {},
   "outputs": [
    {
     "name": "stdout",
     "output_type": "stream",
     "text": [
      "123.44\n"
     ]
    }
   ],
   "source": [
    "print('%.2f'%123.444)"
   ]
  },
  {
   "cell_type": "markdown",
   "metadata": {},
   "source": [
    "## Strings <a name=\"strings\"></a>"
   ]
  },
  {
   "cell_type": "code",
   "execution_count": 7,
   "metadata": {},
   "outputs": [
    {
     "name": "stdout",
     "output_type": "stream",
     "text": [
      "he\n"
     ]
    }
   ],
   "source": [
    "str = \"hello\"\n",
    "print(str[:2])\n",
    "#shouldn't use str but it still works"
   ]
  },
  {
   "cell_type": "markdown",
   "metadata": {},
   "source": [
    "## For Loop <a name=\"for\"></a>"
   ]
  },
  {
   "cell_type": "code",
   "execution_count": 8,
   "metadata": {},
   "outputs": [
    {
     "name": "stdout",
     "output_type": "stream",
     "text": [
      "Example 1: \n",
      "0 1 2 3 4 \n",
      "Example 2: \n",
      "0 1 2 3 4 5 6 7 8 9 For loop is not break-ed\n"
     ]
    }
   ],
   "source": [
    "'''\n",
    "1. For loop using range function\n",
    "2. Breaking the for loop on condition\n",
    "3. Using 'else' with for \n",
    "'''\n",
    "print(\"Example 1: \")\n",
    "for i in range(10): # similiar to range(0:10)\n",
    "    if i == 5:\n",
    "        break\n",
    "    else:\n",
    "        print(i,end=' ')\n",
    "else: # this is part of for statement\n",
    "    print(\"For loop is not breaked\")\n",
    "\n",
    "print(\"\\nExample 2: \")\n",
    "\n",
    "for i in range(0,10):\n",
    "    if i == 10:\n",
    "        break\n",
    "    else:\n",
    "        print(i,end=' ')\n",
    "else: # this is part of for statement\n",
    "    print(\"For loop is not break-ed\")"
   ]
  },
  {
   "cell_type": "markdown",
   "metadata": {},
   "source": [
    "## Dictionary <a name=\"dictionary\"></a>"
   ]
  },
  {
   "cell_type": "markdown",
   "metadata": {},
   "source": [
    "### Dictionary Creation <a name=\"dic-creation\"></a>"
   ]
  },
  {
   "cell_type": "code",
   "execution_count": 9,
   "metadata": {},
   "outputs": [
    {
     "name": "stdout",
     "output_type": "stream",
     "text": [
      "{1: 'A', 2: 'B', 3: 'C'}\n",
      "{}\n",
      "{1: 'A', 2: 'B'}\n"
     ]
    }
   ],
   "source": [
    "'''\n",
    "1. Creating Dictionary using {}\n",
    "2. Creating Dictionary using List of lists\n",
    "'''\n",
    "d1 = {1:\"A\", 2:\"B\", 3:\"C\"}\n",
    "d2 = {}\n",
    "d3 = dict([[1,\"A\"],[2,\"B\"]])\n",
    "print(d1)\n",
    "print(d2)\n",
    "print(d3)"
   ]
  },
  {
   "cell_type": "markdown",
   "metadata": {},
   "source": [
    "### Dictionary Deletion <a name=\"dic-deletion\"></a>"
   ]
  },
  {
   "cell_type": "code",
   "execution_count": 10,
   "metadata": {},
   "outputs": [
    {
     "name": "stdout",
     "output_type": "stream",
     "text": [
      "Type of d:  <class 'dict'>\n",
      "d =  {1: 'A', 2: 'B', 3: 'C'}\n",
      "\n",
      "Keys of d:  dict_keys([1, 2, 3])\n",
      "Value of d:  dict_values(['A', 'B', 'C'])\n",
      "\n",
      "Executing \"del d\" \n",
      "Printing d\n",
      "Dictionary Not Found\n"
     ]
    }
   ],
   "source": [
    "'''\n",
    "1. Dictionary Creation\n",
    "2. Dictionary Keys and Values\n",
    "3. Dictionary Deletion\n",
    "'''\n",
    "d = {1:\"A\", 2:\"B\", 3:\"C\"}\n",
    "print('Type of d: ', type(d))\n",
    "print('d = ', d, end='\\n\\n')\n",
    "print(\"Keys of d: \", d.keys())\n",
    "print(\"Value of d: \", d.values(), end='\\n\\n')\n",
    "print('Executing \"del d\" ')\n",
    "del d\n",
    "try:\n",
    "    print('Printing d')\n",
    "    print(d)\n",
    "except:\n",
    "    print(\"Dictionary Not Found\")"
   ]
  },
  {
   "cell_type": "markdown",
   "metadata": {},
   "source": [
    "### Dictionary's key-value pair deletion <a name=\"dic-kv-deletion\"></a>"
   ]
  },
  {
   "cell_type": "code",
   "execution_count": 11,
   "metadata": {},
   "outputs": [
    {
     "name": "stdout",
     "output_type": "stream",
     "text": [
      "d =  {1: 'A', 2: 'B', 3: 'C'}\n",
      "Keys of d:  dict_keys([1, 2, 3])\n",
      "\n",
      "Deleting key-pair with key 1 ... \n",
      "After d[1] deletion, d =  {2: 'B', 3: 'C'}\n"
     ]
    }
   ],
   "source": [
    "'''\n",
    "1. Dictionary Creation\n",
    "2. Dictionary key-value pair deletion\n",
    "'''\n",
    "d = {1:\"A\", 2:\"B\", 3:\"C\"}\n",
    "print('d = ', d)\n",
    "print(\"Keys of d: \", d.keys(), end='\\n\\n')\n",
    "print('Deleting key-pair with key 1 ... ')\n",
    "del d[1] # NOTE: 1 is key not index\n",
    "print('After d[1] deletion, d = ', d)"
   ]
  },
  {
   "cell_type": "markdown",
   "metadata": {},
   "source": [
    "### Dict Mix type keys and insertion using [ ] <a name=\"dic-mix-keys\"></a>"
   ]
  },
  {
   "cell_type": "code",
   "execution_count": 12,
   "metadata": {},
   "outputs": [
    {
     "name": "stdout",
     "output_type": "stream",
     "text": [
      "Created dictionary using dict(): d =  {}\n",
      "Inserting value 30 at key \"Raza\"..\n",
      "Keys of 'd' now:  dict_keys(['Raza'])\n",
      "\n",
      "Inserting value 30 at key \"raza\"..\n",
      "Keys of 'd' now:  dict_keys(['Raza', 'raza'])\n",
      "NOTE: keys are case sensitive\n",
      "\n",
      "Inserting value \"raza\" at key 30 ..\n",
      "Keys of 'd' now:  dict_keys(['Raza', 'raza', 30])\n",
      "NOTE: dict can have keys as string and integer at the same time\n",
      "\n",
      "Inserting value \"raza\" at key 30.12 ..\n",
      "Keys of 'd' now:  dict_keys(['Raza', 'raza', 30, 30.12])\n",
      "NOTE: dict can have float as keys \n",
      "\n",
      "Now d =  {'Raza': 30, 'raza': 30, 30: 'raza', 30.12: 'raza'}\n",
      "\n",
      "Keys of d:  dict_keys(['Raza', 'raza', 30, 30.12])\n",
      "Value of d:  dict_values([30, 30, 'raza', 'raza'])\n",
      "NOTE: More than one key can have the same value\n",
      "\n",
      "Deleting key-pair with key raza ... \n",
      "Wrong Key \n",
      "The Key given here is a variable \n",
      "d['raza'] is the correct way\n",
      "\n",
      "Deleting key-pair with key \"raza\" ... \n",
      "After d[\"Raza\"] deletion.. \n",
      "d =  {'Raza': 30, 30: 'raza', 30.12: 'raza'}\n"
     ]
    }
   ],
   "source": [
    "'''\n",
    "1. Dictionary Creation with dict()\n",
    "2. Dictionary key-value pair insertion using []\n",
    "3. Dictionary index as strings, integers, floats\n",
    "4. Dictionary Mix type for keys\n",
    "5. Deletion of key-value pair with String key\n",
    "'''\n",
    "d = dict()\n",
    "print('Created dictionary using dict(): d = ', d)\n",
    "print('Inserting value 30 at key \"Raza\"..')\n",
    "d['Raza'] = 30\n",
    "print(\"Keys of 'd' now: \", d.keys(), end='\\n\\n')\n",
    "\n",
    "print('Inserting value 30 at key \"raza\"..')\n",
    "d['raza'] = 30\n",
    "print(\"Keys of 'd' now: \", d.keys())\n",
    "print(\"NOTE: keys are case sensitive\", end='\\n\\n')\n",
    "\n",
    "print('Inserting value \"raza\" at key 30 ..')\n",
    "d[30] = 'raza'\n",
    "print(\"Keys of 'd' now: \", d.keys())\n",
    "print(\"NOTE: dict can have keys as string and integer at the same time\", end='\\n\\n')\n",
    "\n",
    "print('Inserting value \"raza\" at key 30.12 ..')\n",
    "d[30.12] = 'raza'\n",
    "print(\"Keys of 'd' now: \", d.keys())\n",
    "print(\"NOTE: dict can have float as keys \", end='\\n\\n')\n",
    "\n",
    "print('Now d = ', d, end='\\n\\n')\n",
    "print(\"Keys of d: \", d.keys())\n",
    "print(\"Value of d: \", d.values())\n",
    "print(\"NOTE: More than one key can have the same value\", end='\\n\\n')\n",
    "\n",
    "print('Deleting key-pair with key raza ... ')\n",
    "try:\n",
    "    del d[raza]\n",
    "except:\n",
    "    print(\"Wrong Key \\nThe Key given here is a variable \\nd['raza'] is the correct way\", end='\\n\\n')\n",
    "\n",
    "print('Deleting key-pair with key \"raza\" ... ')\n",
    "try:\n",
    "    del d['raza']\n",
    "except:\n",
    "    print('Key \"raza\" not found', end='\\n\\n')\n",
    "    \n",
    "print('After d[\"Raza\"] deletion.. \\nd = ', d)"
   ]
  },
  {
   "cell_type": "markdown",
   "metadata": {},
   "source": [
    "### Dict tuple as a key and replacement using [ ]<a name=\"dic-keytuple\"></a>"
   ]
  },
  {
   "cell_type": "code",
   "execution_count": 13,
   "metadata": {},
   "outputs": [
    {
     "name": "stdout",
     "output_type": "stream",
     "text": [
      "Creating Dict using {}\n",
      "d =  {}\n",
      "Type of d:  <class 'dict'>\n",
      "Inserting 30 at key 1 and 20 at key 2\n",
      "Now d =  {1: 30, 2: 20}\n",
      "\n",
      "Replacing value at key 2 with 'raza'\n",
      "Now d =  {1: 30, 2: 'raza'}\n",
      "\n",
      "Using tuple (2,2) as a key\n",
      "Now d =  {1: 30, 2: 'raza', (2, 2): 10}\n",
      "\n"
     ]
    }
   ],
   "source": [
    "'''\n",
    "1. Creating Dict using {}\n",
    "2. Key-value pair insertion using []\n",
    "3. Replacing value using []\n",
    "4. Tuple as a key\n",
    "'''\n",
    "print(\"Creating Dict using {}\")\n",
    "d = {}\n",
    "print('d = ', d)\n",
    "print('Type of d: ', type(d))\n",
    "print('Inserting 30 at key 1 and 20 at key 2')\n",
    "d[1] = 30\n",
    "d[2] = 20\n",
    "print('Now d = ', d, end='\\n\\n')\n",
    "\n",
    "print(\"Replacing value at key 2 with 'raza'\")\n",
    "d[2] = 'raza'\n",
    "print('Now d = ', d, end='\\n\\n')\n",
    "\n",
    "print(\"Using tuple (2,2) as a key\")\n",
    "d[(2,2)] = 10\n",
    "print('Now d = ', d, end='\\n\\n')"
   ]
  },
  {
   "cell_type": "markdown",
   "metadata": {},
   "source": [
    "### Looping through Dictionary<a name=\"dic-loop\"></a>"
   ]
  },
  {
   "cell_type": "code",
   "execution_count": 14,
   "metadata": {},
   "outputs": [
    {
     "name": "stdout",
     "output_type": "stream",
     "text": [
      "1\n",
      "2\n",
      "3\n"
     ]
    }
   ],
   "source": [
    "'''\n",
    "1. Simple Looping through Dictionary\n",
    "'''\n",
    "d = {1:\"A\", 2:\"B\", 3:\"C\"}\n",
    "\n",
    "for i in d:\n",
    "    print(i) #keys will be printed"
   ]
  },
  {
   "cell_type": "code",
   "execution_count": 15,
   "metadata": {},
   "outputs": [
    {
     "name": "stdout",
     "output_type": "stream",
     "text": [
      "Sum = 6\n"
     ]
    }
   ],
   "source": [
    "'''\n",
    "1. Looping through Dictionary with Mix key\n",
    "2. summing the values of mix key dictionary\n",
    "'''\n",
    "d = {1: 1, '1': 2, 3: 3}\n",
    "total_sum = 0\n",
    "\n",
    "for key in d:\n",
    "    total_sum += d[key]\n",
    "    \n",
    "print('Sum =',total_sum)"
   ]
  },
  {
   "cell_type": "code",
   "execution_count": 16,
   "metadata": {},
   "outputs": [
    {
     "name": "stdout",
     "output_type": "stream",
     "text": [
      "Count =  4\n"
     ]
    }
   ],
   "source": [
    "'''\n",
    "Example\n",
    "'''\n",
    "a = {} # made dictionary\n",
    "a[1] = 1 # inserted value 1 at key 1\n",
    "a['1'] = 2 # inserted value 1 at key '1'\n",
    "a[1] = a[1] + 1 # adding 1 to value at key '1'\n",
    "count = 0 \n",
    "for key in a:\n",
    "    count += a[key]\n",
    "print('Count = ',count)"
   ]
  },
  {
   "cell_type": "markdown",
   "metadata": {},
   "source": [
    "### Comparing Dictionaries <a name=\"dic-cmp\"></a>"
   ]
  },
  {
   "cell_type": "code",
   "execution_count": 17,
   "metadata": {},
   "outputs": [
    {
     "data": {
      "text/plain": [
       "False"
      ]
     },
     "execution_count": 17,
     "metadata": {},
     "output_type": "execute_result"
    }
   ],
   "source": [
    "d1 = {1:\"A\", 2:\"B\", 3:\"C\"}\n",
    "d2 = {1:\"C\", 2:\"C\", 3:\"C\"}\n",
    "d1==d2"
   ]
  },
  {
   "cell_type": "code",
   "execution_count": 18,
   "metadata": {},
   "outputs": [
    {
     "data": {
      "text/plain": [
       "False"
      ]
     },
     "execution_count": 18,
     "metadata": {},
     "output_type": "execute_result"
    }
   ],
   "source": [
    "d1 = {1:\"A\", 2:\"B\", 3:\"C\"}\n",
    "d2 = {4:\"A\", 5:\"B\", 6:\"C\"}\n",
    "d1==d2"
   ]
  },
  {
   "cell_type": "code",
   "execution_count": 19,
   "metadata": {},
   "outputs": [
    {
     "data": {
      "text/plain": [
       "True"
      ]
     },
     "execution_count": 19,
     "metadata": {},
     "output_type": "execute_result"
    }
   ],
   "source": [
    "d1 = {1:\"A\", 2:\"B\", 3:\"C\"}\n",
    "d2 = {1:\"A\", 2:\"B\", 3:\"C\"}\n",
    "d1==d2"
   ]
  },
  {
   "cell_type": "markdown",
   "metadata": {},
   "source": [
    "### Finding key in Dictionary <a name=\"dic-find\"></a>"
   ]
  },
  {
   "cell_type": "code",
   "execution_count": 20,
   "metadata": {},
   "outputs": [
    {
     "name": "stdout",
     "output_type": "stream",
     "text": [
      "True\n",
      "False\n",
      "False\n",
      "\n",
      "True\n",
      "False\n"
     ]
    }
   ],
   "source": [
    "'''\n",
    "Checking for specific key in dict\n",
    "'''\n",
    "d1 = {1:\"A\", 2:\"B\", 3:\"C\", 'raza' : 'Raza'}\n",
    "print(2 in d1)\n",
    "print(\"A\" in d1)\n",
    "print(4 in d1, end='\\n\\n')\n",
    "\n",
    "print('raza' in d1)\n",
    "print('Raza' in d1)"
   ]
  },
  {
   "cell_type": "markdown",
   "metadata": {},
   "source": [
    "## Using .popitem() and .pop(key) on dictionary <a name=\"dic-pop\"></a>"
   ]
  },
  {
   "cell_type": "code",
   "execution_count": 21,
   "metadata": {},
   "outputs": [
    {
     "name": "stdout",
     "output_type": "stream",
     "text": [
      "It removes the arbitrary key-value pairfrom the dictionary and returns it as a tuple.\n",
      "\n",
      "NOTE: There is an update for this method from Python version 3.7 onwards that it removes the last inserted key-value pair from the dictionary and returns it as a tuple.\n",
      ".popitem() => (3, 'C')  d =  {1: 'A', 2: 'B'}\n",
      ".pop(2) => B  d =  {1: 'A', 3: 'C'}\n"
     ]
    }
   ],
   "source": [
    "print(\"It removes the arbitrary key-value pair\\\n",
    "from the dictionary and returns it as a tuple.\\n\")\n",
    "print(\"NOTE: There is an update for this method \\\n",
    "from Python version 3.7 onwards that it removes \\\n",
    "the last inserted key-value pair from the dictionary \\\n",
    "and returns it as a tuple.\")\n",
    "d = {1:\"A\", 2:\"B\", 3:\"C\"}\n",
    "print('.popitem() =>',d.popitem(), ' d = ', d)\n",
    "d = {1:\"A\", 2:\"B\", 3:\"C\"}\n",
    "print('.pop(2) =>',d.pop(2), ' d = ', d)"
   ]
  },
  {
   "cell_type": "markdown",
   "metadata": {},
   "source": [
    "### Dictionary Examples <a name=\"dic-exp\"></a>"
   ]
  },
  {
   "cell_type": "code",
   "execution_count": 22,
   "metadata": {},
   "outputs": [
    {
     "name": "stdout",
     "output_type": "stream",
     "text": [
      "{'A': {1: 10, 3: 30}, 'B': {4: 'Fourty'}}\n"
     ]
    }
   ],
   "source": [
    "a = {}\n",
    "b = {}\n",
    "c = {}\n",
    "a[1] = 10\n",
    "a[3] = 30\n",
    "b[4] = 'Fourty'\n",
    "c['A'] = a\n",
    "c['B'] = b\n",
    "print(c)"
   ]
  },
  {
   "cell_type": "markdown",
   "metadata": {},
   "source": [
    "# List  <a name=\"list\"></a>"
   ]
  },
  {
   "cell_type": "markdown",
   "metadata": {},
   "source": [
    "### Creating List"
   ]
  },
  {
   "cell_type": "code",
   "execution_count": 23,
   "metadata": {},
   "outputs": [
    {
     "name": "stdout",
     "output_type": "stream",
     "text": [
      "Types: <class 'list'> <class 'list'> <class 'list'>\n",
      "list1 =  [1, 2, 3]\n",
      "list2 =  []\n",
      "list3 =  []\n"
     ]
    }
   ],
   "source": [
    "'''\n",
    "1. Ways to Create Lists\n",
    "2. Checking type to confirm\n",
    "3. Printing Lists\n",
    "'''\n",
    "list1 = list([1,2,3])\n",
    "list2 = list()\n",
    "list3 = []\n",
    "\n",
    "print('Types:', type(list1), type(list2), type(list3))\n",
    "print('list1 = ', list1)\n",
    "print('list2 = ', list2)\n",
    "print('list3 = ', list3)"
   ]
  },
  {
   "cell_type": "markdown",
   "metadata": {},
   "source": [
    "### Appending in List"
   ]
  },
  {
   "cell_type": "code",
   "execution_count": 24,
   "metadata": {},
   "outputs": [
    {
     "name": "stdout",
     "output_type": "stream",
     "text": [
      "Initialized List =  [1, 2.0]\n",
      "Appending list1 in itself results in pointer to itself\n",
      "Now, List =  [1, 2.0, [...]]\n",
      "\n",
      "Appending string in list1 \n",
      "Now, List =  [1, 2.0, [...], 'string']\n",
      "\n",
      "Appending list [4,5] in list1 \n",
      "Now, List =  [1, 2.0, [...], 'string', [4, 5]]\n",
      "\n",
      "Appending tuple (4,5) in list1 \n",
      "Now, List =  [1, 2.0, [...], 'string', [4, 5], (4, 5)]\n",
      "\n",
      "Appending dict {1:4,2:5} in list1 \n",
      "Now, List =  [1, 2.0, [...], 'string', [4, 5], (4, 5), {1: 4, 2: 5}]\n",
      "\n",
      "Appending set {1,2,4} in list1 \n",
      "Now, List = \n",
      " [1, 2.0, [...], 'string', [4, 5], (4, 5), {1: 4, 2: 5}, {1, 2, 4}]\n",
      "\n",
      "Checking type of each Element of list1\n",
      "<class 'int'> 1\n",
      "\n",
      "<class 'float'> 2.0\n",
      "\n",
      "<class 'list'> [1, 2.0, [...], 'string', [4, 5], (4, 5), {1: 4, 2: 5}, {1, 2, 4}]\n",
      "\n",
      "<class 'str'> string\n",
      "\n",
      "<class 'list'> [4, 5]\n",
      "\n",
      "<class 'tuple'> (4, 5)\n",
      "\n",
      "<class 'dict'> {1: 4, 2: 5}\n",
      "\n",
      "<class 'set'> {1, 2, 4}\n",
      "\n"
     ]
    }
   ],
   "source": [
    "'''\n",
    "1. Inserting strings, numbers, bool, floatin the list\n",
    "2. Appending list, tuple, set and dict in list\n",
    "3. Checking type of all elements\n",
    "'''\n",
    "list1 = [1,2.0]\n",
    "print('Initialized List = ', list1)\n",
    "list1.append(list1)\n",
    "print('Appending list1 in itself results in pointer to itself')\n",
    "print('Now, List = ', list1, end= '\\n\\n')\n",
    "\n",
    "print('Appending string in list1 ')\n",
    "list1.append('string')\n",
    "print('Now, List = ', list1, end= '\\n\\n')\n",
    "\n",
    "print('Appending list [4,5] in list1 ')\n",
    "list1.append([4,5])\n",
    "print('Now, List = ', list1, end= '\\n\\n')\n",
    "\n",
    "print('Appending tuple (4,5) in list1 ')\n",
    "list1.append((4,5))\n",
    "print('Now, List = ', list1, end= '\\n\\n')\n",
    "\n",
    "print('Appending dict {1:4,2:5} in list1 ')\n",
    "list1.append({1:4,2:5})\n",
    "print('Now, List = ', list1, end= '\\n\\n')\n",
    "\n",
    "print('Appending set {1,2,4} in list1 ')\n",
    "list1.append({1,2,4,4,4,4})\n",
    "print('Now, List = \\n', list1, end= '\\n\\n')\n",
    "\n",
    "print('Checking type of each Element of list1')\n",
    "for element in list1:\n",
    "    print(type(element), element, end= '\\n\\n')"
   ]
  },
  {
   "cell_type": "markdown",
   "metadata": {},
   "source": [
    "### Slicing and index List "
   ]
  },
  {
   "cell_type": "code",
   "execution_count": 25,
   "metadata": {},
   "outputs": [
    {
     "name": "stdout",
     "output_type": "stream",
     "text": [
      "Initialized List:  [0, 1, 2, 3, 4, 5, 6, 7, 8, 9]\n",
      "\n",
      ">>>>Slicing<<<<\n",
      "[2]\n",
      "[7]\n",
      "\n",
      "[2, 3, 4]\n",
      "[5, 6, 7]\n",
      "\n",
      "[0, 1, 2, 3, 4, 5, 6, 7, 8, 9]\n",
      "[0, 2, 4, 6, 8]\n",
      "\n",
      "[9, 8, 7, 6, 5, 4, 3, 2, 1, 0]\n",
      "[8, 6, 4, 2, 0]\n",
      "\n",
      ">>>>Indexing<<<<\n",
      "0\n",
      "9\n",
      "\n",
      "9\n",
      "5\n",
      "\n"
     ]
    }
   ],
   "source": [
    "'''\n",
    "1. Slicing integer List\n",
    "2. Indexing integer List\n",
    "'''\n",
    "list1 = list(range(0,10))\n",
    "print('Initialized List: ',list1, end= '\\n\\n')\n",
    "print('>>>>Slicing<<<<')\n",
    "print(list1[2:3])\n",
    "print(list1[-3:-2], end= '\\n\\n') \n",
    "print(list1[2:5])\n",
    "print(list1[-5:-2], end= '\\n\\n')\n",
    "print(list1[0:10:1])\n",
    "print(list1[0:10:2], end= '\\n\\n')\n",
    "print(list1[-1::-1])\n",
    "print(list1[-2::-2], end= '\\n\\n')\n",
    "\n",
    "print('>>>>Indexing<<<<')\n",
    "print(list1[0])\n",
    "print(list1[-1], end= '\\n\\n')\n",
    "print(list1[len(list1)-1])\n",
    "print(list1[len(list1)//2], end= '\\n\\n')"
   ]
  },
  {
   "cell_type": "markdown",
   "metadata": {},
   "source": [
    "### Slicing and index MIX List "
   ]
  },
  {
   "cell_type": "code",
   "execution_count": 26,
   "metadata": {},
   "outputs": [
    {
     "name": "stdout",
     "output_type": "stream",
     "text": [
      "list1's Element 0 with type <class 'int'> is 1\n",
      "list1's Element 1 with type <class 'float'> is 2.2\n",
      "list1's Element 2 with type <class 'str'> is raza\n",
      "list1's Element 3 with type <class 'tuple'> is (3, 4)\n",
      "list1's Element 4 with type <class 'list'> is [5, 6]\n",
      "list1's Element 5 with type <class 'set'> is {8, 7}\n",
      "list1's Element 6 with type <class 'dict'> is {9: 10, 11: 12}\n",
      "\n",
      "list1= \n",
      " [1, 2.2, 'raza', (3, 4), [5, 6], {8, 7}, {9: 10, 11: 12}]\n",
      "\n",
      "Printing list1[-1][9]=  10\n",
      "Explanation: \n",
      "list1[-1]= {9: 10, 11: 12} which is dictionary\n",
      "Now need to enter the key to get value from dictionary\n",
      "\n",
      "Indexing string: list1[2][2]=  z\n",
      "indexing list in the list1: list1[4][2]=  6\n"
     ]
    }
   ],
   "source": [
    "'''\n",
    "1. Printing Mix List\n",
    "2. Indexing Mix List\n",
    "3. Slicing Mix List\n",
    "'''\n",
    "list1 = [1, 2.2, 'raza', (3,4), [5,6], {7,8}, {9:10,11:12}]\n",
    "\n",
    "#Printing List Elements and their types\n",
    "for i,element in enumerate(list1):\n",
    "    print(\"list1's Element {} with type {} is {}\".format(i\n",
    "                                                         ,type(element)\n",
    "                                                         ,element\n",
    "                                                        )\n",
    "         )\n",
    "\n",
    "#printing list1\n",
    "print('\\nlist1= \\n',list1, end= '\\n\\n')\n",
    "\n",
    "#Indexing List\n",
    "print('Printing list1[-1][9]= ',list1[-1][9])\n",
    "print('Explanation: ')\n",
    "print('list1[-1]= {} which is dictionary'.format(list1[-1]))\n",
    "print('Now need to enter the key to get value from dictionary\\n')\n",
    "\n",
    "#indexing string in the list\n",
    "print('Indexing string: list1[2][2]= ',list1[2][2]) \n",
    "\n",
    "#indexing list in the list\n",
    "print('indexing list in the list1: list1[4][2]= ',list1[4][1]) \n",
    "\n"
   ]
  },
  {
   "cell_type": "markdown",
   "metadata": {},
   "source": [
    "### List Comparison"
   ]
  },
  {
   "cell_type": "code",
   "execution_count": 27,
   "metadata": {},
   "outputs": [
    {
     "name": "stdout",
     "output_type": "stream",
     "text": [
      "Is List1 < List2?  True\n",
      "Is List2 < List1?  False\n",
      "Is List2 == List1?  False\n"
     ]
    }
   ],
   "source": [
    "'''\n",
    "1. Numeric: One Element change\n",
    "'''\n",
    "list1 = [1,2,3,4]\n",
    "list2 = [1,2,3,44]\n",
    "print(\"Is List1 < List2? \",(list1 < list2))\n",
    "print(\"Is List2 < List1? \",(list2 < list1))\n",
    "print(\"Is List2 == List1? \",(list2 == list1))"
   ]
  },
  {
   "cell_type": "code",
   "execution_count": 28,
   "metadata": {},
   "outputs": [
    {
     "name": "stdout",
     "output_type": "stream",
     "text": [
      "Is List1 < List2?  False\n",
      "Is List2 < List1?  True\n",
      "Is List2 == List1?  False\n"
     ]
    }
   ],
   "source": [
    "'''\n",
    "1. Numeric: Two Element change\n",
    "2. Comparison takes place element by element\n",
    "'''\n",
    "list1 = [1,22,3,4]\n",
    "list2 = [1,2,3,44]\n",
    "print(\"Is List1 < List2? \",(list1 < list2))\n",
    "print(\"Is List2 < List1? \",(list2 < list1))\n",
    "print(\"Is List2 == List1? \",(list2 == list1))"
   ]
  },
  {
   "cell_type": "code",
   "execution_count": 29,
   "metadata": {},
   "outputs": [
    {
     "name": "stdout",
     "output_type": "stream",
     "text": [
      "Is List1 < List2?  False\n",
      "Is List2 < List1?  True\n",
      "Is List2 == List1?  False\n"
     ]
    }
   ],
   "source": [
    "'''\n",
    "1. Mix: One Numeric Element change\n",
    "'''\n",
    "list1 = ['raza', 1, 2.2, True]\n",
    "list2 = ['raza', 1, 2.1, True]\n",
    "print(\"Is List1 < List2? \",(list1 < list2))\n",
    "print(\"Is List2 < List1? \",(list2 < list1))\n",
    "print(\"Is List2 == List1? \",(list2 == list1))"
   ]
  },
  {
   "cell_type": "code",
   "execution_count": 30,
   "metadata": {},
   "outputs": [
    {
     "name": "stdout",
     "output_type": "stream",
     "text": [
      "Is List1 < List2?  True\n",
      "Is List2 < List1?  False\n",
      "Is List2 == List1?  False\n"
     ]
    }
   ],
   "source": [
    "'''\n",
    "1. Mix: One String Element change\n",
    "'''\n",
    "list1 = ['raza', 1, 2.2, True]\n",
    "list2 = ['razb', 1, 2.2, True]\n",
    "print(\"Is List1 < List2? \",(list1 < list2))\n",
    "print(\"Is List2 < List1? \",(list2 < list1))\n",
    "print(\"Is List2 == List1? \",(list2 == list1))"
   ]
  },
  {
   "cell_type": "code",
   "execution_count": 31,
   "metadata": {},
   "outputs": [
    {
     "name": "stdout",
     "output_type": "stream",
     "text": [
      "Is List1 < List2?  False\n",
      "Is List2 < List1?  True\n",
      "Is List2 == List1?  False\n"
     ]
    }
   ],
   "source": [
    "'''\n",
    "1. Size miss match\n",
    "'''\n",
    "list1 = [ 2.20002, True]\n",
    "list2 = [ 2.20002]\n",
    "print(\"Is List1 < List2? \",(list1 < list2))\n",
    "print(\"Is List2 < List1? \",(list2 < list1))\n",
    "print(\"Is List2 == List1? \",(list2 == list1))"
   ]
  },
  {
   "cell_type": "markdown",
   "metadata": {},
   "source": [
    "### Operation on List"
   ]
  },
  {
   "cell_type": "code",
   "execution_count": 32,
   "metadata": {},
   "outputs": [
    {
     "name": "stdout",
     "output_type": "stream",
     "text": [
      "[1, 2, 3, 1, 2, 3]\n"
     ]
    }
   ],
   "source": [
    "'''\n",
    "1. multiplying list by scalar number\n",
    "2. + - / ** ^ & | doesn't work\n",
    "\n",
    "'''\n",
    "list1 = [1,2,3] \n",
    "print(list1*2)"
   ]
  },
  {
   "cell_type": "code",
   "execution_count": 33,
   "metadata": {},
   "outputs": [
    {
     "name": "stdout",
     "output_type": "stream",
     "text": [
      "[1, 2, 3, 4, 5, 6]\n"
     ]
    }
   ],
   "source": [
    "'''\n",
    "1. Adding two lists\n",
    "2. * - ^ / & | doesn't work\n",
    "'''\n",
    "list1 = [1,2,3] \n",
    "list2 = [4,5,6] \n",
    "print(list1 + list2)"
   ]
  },
  {
   "cell_type": "markdown",
   "metadata": {},
   "source": [
    "### List Examples"
   ]
  },
  {
   "cell_type": "code",
   "execution_count": 34,
   "metadata": {},
   "outputs": [
    {
     "name": "stdout",
     "output_type": "stream",
     "text": [
      "[(3, 1), (4, 2), (4, 1), (5, 2)]\n"
     ]
    }
   ],
   "source": [
    "list1 = [3,4]\n",
    "list2 = [1,2]\n",
    "list3 = list()\n",
    "i,j = 0, 0\n",
    "for i in list1:\n",
    "    for j in list2:\n",
    "        list3.append((i,j))\n",
    "        i+=1\n",
    "        j+=1\n",
    "print(list3)"
   ]
  },
  {
   "cell_type": "markdown",
   "metadata": {},
   "source": [
    "### Using .pop() on list"
   ]
  },
  {
   "cell_type": "code",
   "execution_count": 35,
   "metadata": {},
   "outputs": [
    {
     "name": "stdout",
     "output_type": "stream",
     "text": [
      "My List =  [(3, 1), (4, 2), (4, 1), (5, 2)]\n",
      "Poped element =  (5, 2)\n",
      "Now List =  [(3, 1), (4, 2), (4, 1)]\n"
     ]
    }
   ],
   "source": [
    "list1 = [(3, 1), (4, 2), (4, 1), (5, 2)]\n",
    "print(\"My List = \", list1)\n",
    "poped_element = list1.pop()\n",
    "print(\"Poped element = \", poped_element)\n",
    "print(\"Now List = \", list1)"
   ]
  },
  {
   "cell_type": "markdown",
   "metadata": {},
   "source": [
    "## SET <a name=\"set\"></a>"
   ]
  },
  {
   "cell_type": "code",
   "execution_count": 36,
   "metadata": {},
   "outputs": [
    {
     "name": "stdout",
     "output_type": "stream",
     "text": [
      "{1, 2, 3, 4}\n",
      "Poped element =  1\n",
      "{2, 3, 4}\n"
     ]
    }
   ],
   "source": [
    "set1 = {1,2,3,3,4}\n",
    "print(set1)\n",
    "poped_element = set1.pop()\n",
    "print(\"Poped element = \", poped_element)\n",
    "print(set1)"
   ]
  },
  {
   "cell_type": "code",
   "execution_count": null,
   "metadata": {},
   "outputs": [],
   "source": []
  }
 ],
 "metadata": {
  "kernelspec": {
   "display_name": "Python 3",
   "language": "python",
   "name": "python3"
  },
  "language_info": {
   "codemirror_mode": {
    "name": "ipython",
    "version": 3
   },
   "file_extension": ".py",
   "mimetype": "text/x-python",
   "name": "python",
   "nbconvert_exporter": "python",
   "pygments_lexer": "ipython3",
   "version": "3.7.6"
  }
 },
 "nbformat": 4,
 "nbformat_minor": 4
}
