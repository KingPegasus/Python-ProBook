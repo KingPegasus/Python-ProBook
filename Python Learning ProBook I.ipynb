{
 "cells": [
  {
   "cell_type": "markdown",
   "metadata": {},
   "source": [
    "# Python Learning ProBook I\n",
    "## Made By: [Muhammad Raza Khalid Saleemi](https://www.linkedin.com/in/muhammad-raza-khalid-saleemi/)\n",
    "\n",
    "## Let's Connect on [LinkedIn](https://www.linkedin.com/in/muhammad-raza-khalid-saleemi/) \n",
    "\n",
    "## This notebook is not completed stay tuned by clicking STAR Button ⭐\n"
   ]
  },
  {
   "cell_type": "markdown",
   "metadata": {},
   "source": [
    "## Notebook Python Version"
   ]
  },
  {
   "cell_type": "code",
   "execution_count": 1,
   "metadata": {},
   "outputs": [
    {
     "data": {
      "text/plain": [
       "'3.12.2'"
      ]
     },
     "execution_count": 1,
     "metadata": {},
     "output_type": "execute_result"
    }
   ],
   "source": [
    "# Version Check\n",
    "from platform import python_version\n",
    "python_version()"
   ]
  },
  {
   "cell_type": "markdown",
   "metadata": {},
   "source": [
    "# Table of contents\n",
    "0. [Mutable Vs Immutable](#mutable)\n",
    "1. [Types of Numbers](#num-type)\n",
    "2. [Booleans](#bool)\n",
    "3. [Variables](#variables)\n",
    "4. [Operators](#operators)\n",
    "    - [Arithematic Operators](#operators-arith)\n",
    "    - [Relational Operators](#operators-relation)\n",
    "    - [Logical Operators](#operators-logic)\n",
    "    - [Bitwise Operators](#operators-bit)\n",
    "    - [Operators Examples](#operators-exp)\n",
    "    \n",
    "5. [Print](#print)\n",
    "6. [Strings](#strings)\n",
    "7. [For and While loop](#for-while)\n",
    "8. [Dictionary](#dictionary)\n",
    "    - [Dictionary Creation](#dic-creation)\n",
    "    - [Dictionary Deletion](#dic-deletion)\n",
    "    - [Dictionary key-value pair deletion](#dic-kv-deletion)\n",
    "    - [Dictionary Mix type Keys and insertion](#dic-mix-keys)\n",
    "    - [Dictionary Tuple as a key](#dic-keytuple)\n",
    "    - [Looping through Dictionary](#dic-loop)\n",
    "    - [Compare Dictionaries](#dic-cmp) \n",
    "    - [Finding key in Dictionary](#dic-find)\n",
    "    - [Using popitem and pop on Dictionary](#dic-pop)\n",
    "    - [Dictionary Examples](#dic-exp) \n",
    "\n",
    "9. [List](#list)\n",
    "    - [List Creation](#create-list)\n",
    "    - [Append to List](#append-list)\n",
    "    - [Slicing and Indexing](#slice-list)\n",
    "    - [Slicing and Indexing on Mix type List](#slice-mix-list)\n",
    "    - [Lists Comparisons](#cmp-list)\n",
    "    - [Operation on Lists](#oper-list)\n",
    "    - [List Examples](#exp-list)\n",
    "    - [Using pop() on list](#pop-list)\n",
    "    \n",
    "10. [Tuple](#tuple)\n",
    "11. [Set](#set)"
   ]
  },
  {
   "cell_type": "markdown",
   "metadata": {},
   "source": [
    "# Mutable Vs Immutable  <a name=\"mutable\"></a>\n",
    "- Everything in Python is an object and that some are either mutable or immutable.\n",
    "- A **Mutable** object can be changed after it is created.\n",
    "- An **Immutable** object can not be changed after it is created.\n",
    "- Objects of built-in types like (int, float, str, tuple) are immutable.\n",
    "- objects of built-in types like (list, set, dict) are mutable"
   ]
  },
  {
   "attachments": {},
   "cell_type": "markdown",
   "metadata": {},
   "source": [
    "\n",
    "![mutable vs immutable](https://miro.medium.com/max/782/1*CU88aq14T-D_nqsxpMiHig.png)"
   ]
  },
  {
   "cell_type": "markdown",
   "metadata": {},
   "source": [
    "### Immutable"
   ]
  },
  {
   "cell_type": "code",
   "execution_count": 2,
   "metadata": {},
   "outputs": [
    {
     "name": "stdout",
     "output_type": "stream",
     "text": [
      "True\n",
      "\n",
      "False\n",
      "True\n"
     ]
    }
   ],
   "source": [
    "# Identifiers a and b both point to the same object as their ids are the same. \n",
    "a = 12\n",
    "b = a\n",
    "print(id(a) == id(b),end='\\n\\n')\n",
    "\n",
    "# changed the a pointing to int 10\n",
    "a = 10\n",
    "print(id(a) == id(12) )\n",
    "print(id(b) == id(12) ) # b still pointing to 12"
   ]
  },
  {
   "cell_type": "code",
   "execution_count": 3,
   "metadata": {},
   "outputs": [
    {
     "name": "stdout",
     "output_type": "stream",
     "text": [
      "True\n",
      "True\n"
     ]
    }
   ],
   "source": [
    "# If we do a simple operation as below. \n",
    "# We see a is no longer pointing to same object as b. \n",
    "a = 12\n",
    "a = b\n",
    "a = a + 5\n",
    "print( id(a) != id(b) )\n",
    "print( id(a) != id(12))"
   ]
  },
  {
   "cell_type": "markdown",
   "metadata": {},
   "source": [
    "### Mutable"
   ]
  },
  {
   "cell_type": "code",
   "execution_count": 4,
   "metadata": {},
   "outputs": [
    {
     "name": "stdout",
     "output_type": "stream",
     "text": [
      "id(x) == id(y)   True\n",
      "After poping id(x) == id(y)   True\n"
     ]
    }
   ],
   "source": [
    "'''\n",
    "Here we created an object the type list with \n",
    "variables x and y pointing to the same object, \n",
    "which is a list of 4 immutable objects.\n",
    "'''\n",
    "x = list([1, 2, 3, 4])\n",
    "y = x\n",
    "print( 'id(x) == id(y)  ', id(x) == id(y)) \n",
    "\n",
    "x.pop()\n",
    "print( 'After poping id(x) == id(y)  ', id(x) == id(y)) "
   ]
  },
  {
   "cell_type": "markdown",
   "metadata": {},
   "source": [
    "## Types of Numbers <a name=\"num-type\"></a>"
   ]
  },
  {
   "cell_type": "markdown",
   "metadata": {},
   "source": [
    "Python has various \"types\" of numbers (numeric literals). We'll mainly focus on integers and floating point numbers.\n",
    "\n",
    "Integers are just whole numbers, positive or negative. For example: 2 and -2 are examples of integers.\n",
    "\n",
    "Floating point numbers in Python are notable because they have a decimal point in them, or use an exponential (e) to define the number. For example 2.0 and -2.1 are examples of floating point numbers. 4E2 (4 times 10 to the power of 2) is also an example of a floating point number in Python.\n",
    "\n",
    "Here is a table of the two main types we will spend most of our time working with some examples:"
   ]
  },
  {
   "cell_type": "markdown",
   "metadata": {},
   "source": [
    "<table>\n",
    "<tr>\n",
    "    <th>Examples</th> \n",
    "    <th>Number \"Type\"</th>\n",
    "</tr>\n",
    "\n",
    "<tr>\n",
    "    <td>1,2,-5,1000</td>\n",
    "    <td>Integers</td> \n",
    "</tr>\n",
    "\n",
    "<tr>\n",
    "    <td>1.2,-0.5,2e2,3E2</td> \n",
    "    <td>Floating-point numbers</td> \n",
    "</tr>\n",
    " </table>"
   ]
  },
  {
   "cell_type": "code",
   "execution_count": 5,
   "metadata": {},
   "outputs": [
    {
     "name": "stdout",
     "output_type": "stream",
     "text": [
      "Integers:  1 2 -5 1000\n"
     ]
    }
   ],
   "source": [
    "print('Integers: ',1, 2, -5, 1000)"
   ]
  },
  {
   "cell_type": "code",
   "execution_count": 6,
   "metadata": {},
   "outputs": [
    {
     "name": "stdout",
     "output_type": "stream",
     "text": [
      "Float:  1.2 -0.5 200.0 300.0\n"
     ]
    }
   ],
   "source": [
    "print('Float: ',1.2, -0.5, 2e2, 3E2 )"
   ]
  },
  {
   "cell_type": "markdown",
   "metadata": {},
   "source": [
    "## Booleans <a name=\"bool\"></a>"
   ]
  },
  {
   "cell_type": "code",
   "execution_count": 7,
   "metadata": {},
   "outputs": [
    {
     "name": "stdout",
     "output_type": "stream",
     "text": [
      "True\n"
     ]
    }
   ],
   "source": [
    "# Boolean Assign\n",
    "i_am_boolean = True\n",
    "print(i_am_boolean)"
   ]
  },
  {
   "cell_type": "code",
   "execution_count": 8,
   "metadata": {},
   "outputs": [
    {
     "data": {
      "text/plain": [
       "True"
      ]
     },
     "execution_count": 8,
     "metadata": {},
     "output_type": "execute_result"
    }
   ],
   "source": [
    "# Result of comparisons\n",
    "False < True"
   ]
  },
  {
   "cell_type": "code",
   "execution_count": 9,
   "metadata": {},
   "outputs": [
    {
     "data": {
      "text/plain": [
       "True"
      ]
     },
     "execution_count": 9,
     "metadata": {},
     "output_type": "execute_result"
    }
   ],
   "source": [
    "1 < 2"
   ]
  },
  {
   "cell_type": "code",
   "execution_count": 10,
   "metadata": {},
   "outputs": [
    {
     "data": {
      "text/plain": [
       "True"
      ]
     },
     "execution_count": 10,
     "metadata": {},
     "output_type": "execute_result"
    }
   ],
   "source": [
    "3.0 == 3"
   ]
  },
  {
   "cell_type": "markdown",
   "metadata": {},
   "source": [
    "## Variables <a name=\"variables\"></a>"
   ]
  },
  {
   "cell_type": "markdown",
   "metadata": {},
   "source": [
    "We will start with assigning values to variables. the values can be of \"integer\" type or \"float\" type. Please consider the following rules before naming the variables.\n",
    "\n",
    "    1. Names can not start with a number.\n",
    "    2. There can be no spaces in the name, use _ instead.\n",
    "    3. Can't use any of these symbols :'\",<>/?|\\()!@#$%^&*~-+\n",
    "    4. It's considered best practice that names are lowercase.\n",
    "    5. Avoid using the characters 'l' (lowercase letter el), 'O' (uppercase letter oh), \n",
    "       or 'I' (uppercase letter eye) as single character variable names.\n",
    "    6. Avoid using words that have special meaning in Python like \"list\" and \"str\""
   ]
  },
  {
   "cell_type": "code",
   "execution_count": 11,
   "metadata": {},
   "outputs": [
    {
     "name": "stdout",
     "output_type": "stream",
     "text": [
      "['I', 'can', 'store', ('different', {'types': 'of'}, 'values')]\n"
     ]
    }
   ],
   "source": [
    "i_am_variable = ['I', 'can', 'store', ('different', {'types':'of'} ,'values')]\n",
    "print(i_am_variable)"
   ]
  },
  {
   "cell_type": "code",
   "execution_count": 12,
   "metadata": {},
   "outputs": [
    {
     "name": "stdout",
     "output_type": "stream",
     "text": [
      "('raza', 'r', 'foo')\n"
     ]
    }
   ],
   "source": [
    "my_string_1 ='raza'\n",
    "_ = 'r'\n",
    "foo = 'foo'\n",
    "#1st_string = 'r' #Syntax Error\n",
    "print((my_string_1, _, foo))"
   ]
  },
  {
   "cell_type": "code",
   "execution_count": 13,
   "metadata": {},
   "outputs": [
    {
     "name": "stdout",
     "output_type": "stream",
     "text": [
      "(1, 1, 1)\n"
     ]
    }
   ],
   "source": [
    "_a = 1\n",
    "__str__ = 1\n",
    "__a = 1\n",
    "\n",
    "print((_a, __str__, __a))"
   ]
  },
  {
   "cell_type": "markdown",
   "metadata": {},
   "source": [
    "## Operators <a name=\"operators\"></a>"
   ]
  },
  {
   "cell_type": "markdown",
   "metadata": {},
   "source": [
    "### Arithematic Operators <a name=\"operators-arith\"></a>"
   ]
  },
  {
   "cell_type": "markdown",
   "metadata": {},
   "source": [
    "<table>\n",
    "<tr>\n",
    "    <th>OPERATOR</th> \n",
    "    <th>DESCRIPTION</th>\n",
    "    <th>SYNTAX</th>\n",
    "</tr>\n",
    "\n",
    "<tr>\n",
    "    <td>+</td>\n",
    "    <td>Addition: adds two operands</td>\n",
    "    <td>x + y</td>\n",
    "</tr>\n",
    "\n",
    "<tr>\n",
    "    <td>-</td>\n",
    "    <td>Subtraction: subtracts two operands</td>\n",
    "    <td>x - y</td>\n",
    "</tr>\n",
    "\n",
    "<tr>\n",
    "    <td>*</td>\n",
    "    <td>Multiplication: multiplies two operands</td>\n",
    "    <td>x * y</td>\n",
    "</tr>\n",
    "    \n",
    "<tr>\n",
    "    <td>/</td>\n",
    "    <td>Division (float): divides the first operand by the second</td>\n",
    "    <td>x / y</td>\n",
    "</tr>\n",
    "    \n",
    "<tr>\n",
    "    <td>//</td>\n",
    "    <td>Division (floor): divides the first operand by the second</td>\n",
    "    <td>x // y</td>\n",
    "</tr>\n",
    "    \n",
    "<tr>\n",
    "    <td>**</td>\n",
    "    <td>Power : Returns first raised to power second</td>\n",
    "    <td>x ** y</td>\n",
    "</tr>\n",
    "\n",
    "<tr>\n",
    "    <td>%</td>\n",
    "    <td>Modulus: returns the remainder when first operand is divided by the second</td>\n",
    "    <td>x % y</td>\n",
    "</tr>\n",
    "</table>"
   ]
  },
  {
   "cell_type": "code",
   "execution_count": 14,
   "metadata": {},
   "outputs": [
    {
     "name": "stdout",
     "output_type": "stream",
     "text": [
      "a = 17 b = 3\n",
      "\n",
      "a + b =  20\n",
      "a - b =  14\n",
      "a * b =  51\n",
      "a / b =  5.666666666666667\n",
      "a // b =  5\n",
      "a % b =  2\n",
      "a ** b =  4913\n"
     ]
    }
   ],
   "source": [
    "# Examples of Arithmetic Operator \n",
    "a = 17\n",
    "b = 3\n",
    "\n",
    "# Addition of numbers \n",
    "add = a + b \n",
    "\n",
    "# Subtraction of numbers \n",
    "sub = a - b \n",
    "\n",
    "# Multiplication of number \n",
    "mul = a * b \n",
    "\n",
    "# Division(float) of number \n",
    "div1 = a / b \n",
    "\n",
    "# Division(floor) of number \n",
    "div2 = a // b \n",
    "\n",
    "# Modulo of both number \n",
    "mod = a % b \n",
    "\n",
    "# Power \n",
    "p = a ** b \n",
    "\n",
    "# print results\n",
    "print('a =', a,'b =', b, end= '\\n\\n')\n",
    "print(\"a + b = \",add) \n",
    "print(\"a - b = \",sub) \n",
    "print(\"a * b = \",mul) \n",
    "print(\"a / b = \",div1) \n",
    "print(\"a // b = \",div2) \n",
    "print(\"a % b = \",mod) \n",
    "print(\"a ** b = \",p) "
   ]
  },
  {
   "cell_type": "markdown",
   "metadata": {},
   "source": [
    "### Relational Operators <a name=\"operators-relation\"></a>"
   ]
  },
  {
   "cell_type": "code",
   "execution_count": 15,
   "metadata": {},
   "outputs": [
    {
     "name": "stdout",
     "output_type": "stream",
     "text": [
      "a = 5 b = 27 \n",
      "\n",
      "a > b  False\n",
      "a < b  True\n",
      "a == b False\n",
      "a != b True\n",
      "a >= b False\n",
      "a <= b True\n"
     ]
    }
   ],
   "source": [
    "# Examples of Relational Operators \n",
    "a = 5\n",
    "b = 27\n",
    "print('a =', a, 'b =', b, '\\n')\n",
    "\n",
    "# a > b is False \n",
    "print('a > b ', a > b) \n",
    "\n",
    "# a < b is True \n",
    "print('a < b ', a < b) \n",
    "\n",
    "# a == b is False \n",
    "print('a == b', a == b) \n",
    "\n",
    "# a != b is True \n",
    "print('a != b', a != b) \n",
    "\n",
    "# a >= b is False \n",
    "print('a >= b', a >= b) \n",
    "\n",
    "# a <= b is True \n",
    "print('a <= b', a <= b) \n"
   ]
  },
  {
   "cell_type": "markdown",
   "metadata": {},
   "source": [
    "### Logical Operators <a name=\"operators-logic\"></a>"
   ]
  },
  {
   "cell_type": "code",
   "execution_count": 16,
   "metadata": {},
   "outputs": [
    {
     "name": "stdout",
     "output_type": "stream",
     "text": [
      "a and b False\n",
      "a or b  True\n",
      "not b   True\n"
     ]
    }
   ],
   "source": [
    "# Examples of Logical Operator \n",
    "a = True\n",
    "b = False\n",
    "\n",
    "# Print a and b is False \n",
    "print('a and b', a and b) \n",
    "\n",
    "# Print a or b is True \n",
    "print('a or b ', a or b) \n",
    "\n",
    "# Print not b is False \n",
    "print('not b  ', not b) "
   ]
  },
  {
   "cell_type": "markdown",
   "metadata": {},
   "source": [
    "### Bitwise Operators <a name=\"operators-bit\"></a>"
   ]
  },
  {
   "cell_type": "markdown",
   "metadata": {},
   "source": [
    "<table>\n",
    "<tr>\n",
    "    <th>OPERATOR</th> \n",
    "    <th>DESCRIPTION</th>\n",
    "    <th>SYNTAX</th>\n",
    "</tr>\n",
    "\n",
    "<tr>\n",
    "    <td>&</td>\n",
    "    <td>Bitwise AND</td>\n",
    "    <td>x & y</td>\n",
    "</tr>\n",
    "\n",
    "<tr>\n",
    "    <td>|</td>\n",
    "    <td>Bitwise OR</td>\n",
    "    <td>x | y</td>\n",
    "</tr>\n",
    "\n",
    "<tr>\n",
    "    <td>~</td>\n",
    "    <td>Bitwise NOT</td>\n",
    "    <td>~x</td>\n",
    "</tr>\n",
    "    \n",
    "<tr>\n",
    "    <td>^</td>\n",
    "    <td>Bitwise XOR</td>\n",
    "    <td>x ^ y</td>\n",
    "</tr>\n",
    "    \n",
    "<tr>\n",
    "    <td>>></td>\n",
    "    <td>Bitwise right shift</td>\n",
    "    <td>x >> digit</td>\n",
    "</tr>\n",
    "    \n",
    "<tr>\n",
    "    <td><<</td>\n",
    "    <td>Bitwise left shift</td>\n",
    "    <td>x << digit</td>\n",
    "</tr>\n",
    "\n",
    "\n",
    "</table>"
   ]
  },
  {
   "cell_type": "code",
   "execution_count": 17,
   "metadata": {},
   "outputs": [
    {
     "name": "stdout",
     "output_type": "stream",
     "text": [
      "a = 17 b = 5 \n",
      "\n",
      "binary of a = 10001\n",
      "binary of b =   101\n",
      "a & b  = 1\n",
      "a | b  = 21\n",
      "~a     = -18\n",
      "~b     = -6\n",
      "a ^ b  = 20\n",
      "a >> 2 =  4\n",
      "a << 2 = 68\n"
     ]
    }
   ],
   "source": [
    "# Examples of Bitwise operators \n",
    "a = 17\n",
    "b = 5\n",
    "print('a =', a, 'b =', b, '\\n')\n",
    "print('binary of a =', bin(a)[2:])\n",
    "print('binary of b =  ', bin(b)[2:])\n",
    "\n",
    "# Print bitwise AND operation \n",
    "print('a & b  =', a & b) \n",
    "\n",
    "# Print bitwise OR operation \n",
    "print('a | b  =', a | b) \n",
    "\n",
    "# Print bitwise NOT operation \n",
    "print('~a     =', ~a)\n",
    "print('~b     =', ~b) \n",
    "\n",
    "# print bitwise XOR operation \n",
    "print('a ^ b  =', a ^ b) \n",
    "\n",
    "# print bitwise right shift operation \n",
    "print('a >> 2 = ', a >> 2) \n",
    "\n",
    "# print bitwise left shift operation \n",
    "print('a << 2 =', a << 2) \n"
   ]
  },
  {
   "cell_type": "markdown",
   "metadata": {},
   "source": [
    "### Operators Examples <a name=\"operators-exp\"></a>"
   ]
  },
  {
   "cell_type": "code",
   "execution_count": 18,
   "metadata": {},
   "outputs": [
    {
     "name": "stdout",
     "output_type": "stream",
     "text": [
      "2\n",
      "-3\n"
     ]
    }
   ],
   "source": [
    "print(5//2)\n",
    "print(5//-2)"
   ]
  },
  {
   "cell_type": "code",
   "execution_count": 19,
   "metadata": {},
   "outputs": [
    {
     "name": "stdout",
     "output_type": "stream",
     "text": [
      "1\n",
      "-1\n",
      "2\n",
      "3\n"
     ]
    }
   ],
   "source": [
    "print(5%2)\n",
    "print(5%-2)\n",
    "print(2%5)\n",
    "print(-2%5)"
   ]
  },
  {
   "cell_type": "code",
   "execution_count": 20,
   "metadata": {},
   "outputs": [
    {
     "name": "stdout",
     "output_type": "stream",
     "text": [
      "5.5\n",
      "5.5\n"
     ]
    }
   ],
   "source": [
    "x = 1 / 2.0 + 3 // 3 + 4 ** 1\n",
    "print(x)\n",
    "\n",
    "y = (1 / 2.0) + (3 // 3) + (4 ** 1)\n",
    "print(y)"
   ]
  },
  {
   "cell_type": "code",
   "execution_count": 21,
   "metadata": {},
   "outputs": [
    {
     "name": "stdout",
     "output_type": "stream",
     "text": [
      "0\n",
      "0\n"
     ]
    }
   ],
   "source": [
    "A = 16\n",
    "S = 15\n",
    "print(A % S // A)\n",
    "\n",
    "print( (A % S) // A)\n",
    "\n",
    "#print(A % (S // A) ) #ZeroDivisionError"
   ]
  },
  {
   "cell_type": "markdown",
   "metadata": {},
   "source": [
    "## Print <a name=\"print\"></a>"
   ]
  },
  {
   "cell_type": "code",
   "execution_count": 22,
   "metadata": {},
   "outputs": [
    {
     "name": "stdout",
     "output_type": "stream",
     "text": [
      "\n"
     ]
    }
   ],
   "source": [
    "# printing newline character as end = '\\n' by default\n",
    "# print(value, ..., sep=' ', end='\\n', file=sys.stdout, flush=False)\n",
    "print()"
   ]
  },
  {
   "cell_type": "code",
   "execution_count": 23,
   "metadata": {},
   "outputs": [
    {
     "name": "stdout",
     "output_type": "stream",
     "text": [
      "NEWLINEText to PrintNEWLINE"
     ]
    }
   ],
   "source": [
    "# Changing end to 'NEWLINE'\n",
    "print(end='NEWLINE')\n",
    "print('Text to Print',end='NEWLINE')\n",
    "# NOTE: I didn't start from newline because end attribute\n",
    "#      is changed from default '\\n' to 'NEWLINE' "
   ]
  },
  {
   "cell_type": "code",
   "execution_count": 24,
   "metadata": {},
   "outputs": [
    {
     "name": "stdout",
     "output_type": "stream",
     "text": [
      "1 2 3\n",
      "1,2,3\n",
      "1 2 3\n"
     ]
    }
   ],
   "source": [
    "# Changing separator sep by default is ' ' <= Space\n",
    "print(1,2,3) # default seperator\n",
    "print(1,2,3, sep=',')\n",
    "print(1,2,3, sep= None) # same as space"
   ]
  },
  {
   "cell_type": "code",
   "execution_count": 25,
   "metadata": {},
   "outputs": [
    {
     "name": "stdout",
     "output_type": "stream",
     "text": [
      "3.14\n",
      "(1+2j)\n",
      "True\n",
      "[1, 2, 3]\n",
      "(1, 2, 3)\n",
      "{'red', 'blue', 'green'}\n",
      "{'name': 'Alice', 'age': 42}\n",
      "hello\n"
     ]
    }
   ],
   "source": [
    "# printing different types\n",
    "print(3.14)                          # <class 'float'>\n",
    "\n",
    "print(1 + 2j)                        # <class 'complex'>\n",
    "\n",
    "print(True)                          # <class 'bool'>\n",
    "\n",
    "print([1, 2, 3])                     # <class 'list'>\n",
    "\n",
    "print((1, 2, 3))                     # <class 'tuple'>\n",
    "\n",
    "print({'red', 'green', 'blue'})      # <class 'set'>\n",
    "\n",
    "print({'name': 'Alice', 'age': 42})  # <class 'dict'>\n",
    "\n",
    "print('hello')                       # <class 'str'>"
   ]
  },
  {
   "cell_type": "code",
   "execution_count": 26,
   "metadata": {},
   "outputs": [
    {
     "name": "stdout",
     "output_type": "stream",
     "text": [
      "[1, 2.0, 'string', [4, 5], (4, 5), {1: 4, 2: 5}, {1, 2, 4}]\n"
     ]
    }
   ],
   "source": [
    "#printing list containing different types\n",
    "list1 =  [1, 2.0, 'string', [4, 5], (4, 5), {1: 4, 2: 5}, {1, 2, 4}]\n",
    "print(list1)"
   ]
  },
  {
   "cell_type": "code",
   "execution_count": 27,
   "metadata": {},
   "outputs": [
    {
     "name": "stdout",
     "output_type": "stream",
     "text": [
      "['I am', 30, 'years old']\n",
      "I am 30 years old\n"
     ]
    }
   ],
   "source": [
    "'''\n",
    "unpack the sequence with the star operator (*)\n",
    "and let print() handle type casting:\n",
    "'''\n",
    "list2 = [ \"I am\" , 30, 'years old' ]\n",
    "print(list2)\n",
    "print(*list2)"
   ]
  },
  {
   "cell_type": "code",
   "execution_count": 28,
   "metadata": {},
   "outputs": [
    {
     "name": "stdout",
     "output_type": "stream",
     "text": [
      "123.44\n"
     ]
    }
   ],
   "source": [
    "print('%.2f'%123.444)"
   ]
  },
  {
   "cell_type": "markdown",
   "metadata": {},
   "source": [
    "## Strings <a name=\"strings\"></a>"
   ]
  },
  {
   "cell_type": "markdown",
   "metadata": {},
   "source": [
    "It's important to note that strings have an important property known as *immutability*. This means that once a string is created, the elements within it can not be changed."
   ]
  },
  {
   "cell_type": "code",
   "execution_count": 29,
   "metadata": {},
   "outputs": [
    {
     "name": "stdout",
     "output_type": "stream",
     "text": [
      "TypeError: 'str' object does not support item assignment\n"
     ]
    }
   ],
   "source": [
    "string = 'I am a string. You dare try to change my letters'\n",
    "try:\n",
    "    string[0] = 'a'\n",
    "    print(\"DONE\")\n",
    "except:\n",
    "    print(\"TypeError: 'str' object does not support item assignment\")\n",
    "        "
   ]
  },
  {
   "cell_type": "code",
   "execution_count": 30,
   "metadata": {},
   "outputs": [
    {
     "name": "stdout",
     "output_type": "stream",
     "text": [
      "he\n",
      "olleh\n",
      "lo\n"
     ]
    }
   ],
   "source": [
    "\"\"\"\n",
    "String Slicing\n",
    "\"\"\"\n",
    "string = \"hello\"\n",
    "print(string[:2])\n",
    "print(string[::-1]) #printing string in reverse\n",
    "print(string[-2:])"
   ]
  },
  {
   "cell_type": "code",
   "execution_count": 31,
   "metadata": {},
   "outputs": [
    {
     "name": "stdout",
     "output_type": "stream",
     "text": [
      "Original String : heLlo 123\n",
      "Capitalize : Hello 123\n",
      "Lower : hello 123\n",
      "Upper : HELLO 123\n",
      "Split : ['heLlo', '123'] <= this is a <class 'list'>\n",
      "Ocurrences of 3 : 1\n"
     ]
    }
   ],
   "source": [
    "'''\n",
    "String methods\n",
    "'''\n",
    "string = \"heLlo 123\"\n",
    "print(\"Original String :\", string )\n",
    "print(\"Capitalize :\", string.capitalize())\n",
    "print(\"Lower :\", string.lower())\n",
    "print(\"Upper :\", string.upper())\n",
    "print(\"Split :\", string.split(), '<= this is a', type(string.split()))\n",
    "print(\"Ocurrences of 3 :\", string.count('3')) "
   ]
  },
  {
   "cell_type": "markdown",
   "metadata": {},
   "source": [
    "## For and While Loop <a name=\"for-while\"></a>"
   ]
  },
  {
   "cell_type": "markdown",
   "metadata": {},
   "source": [
    "### For Loop <a name=\"for\"></a>"
   ]
  },
  {
   "cell_type": "code",
   "execution_count": 32,
   "metadata": {},
   "outputs": [
    {
     "name": "stdout",
     "output_type": "stream",
     "text": [
      "1\n",
      "2\n",
      "3\n"
     ]
    }
   ],
   "source": [
    "# Simple for loop\n",
    "for i in [1,2,3]:\n",
    "    print(i)"
   ]
  },
  {
   "cell_type": "code",
   "execution_count": 33,
   "metadata": {},
   "outputs": [
    {
     "name": "stdout",
     "output_type": "stream",
     "text": [
      "R\n",
      "a\n",
      "z\n",
      "a\n",
      " \n",
      "1\n",
      "s\n",
      "t\n"
     ]
    }
   ],
   "source": [
    "# For loop on string to access its elements\n",
    "for i in \"Raza 1st\":\n",
    "    print(i)"
   ]
  },
  {
   "cell_type": "code",
   "execution_count": 34,
   "metadata": {},
   "outputs": [
    {
     "name": "stdout",
     "output_type": "stream",
     "text": [
      "1\n",
      "2\n"
     ]
    }
   ],
   "source": [
    "# Using range() function for looping\n",
    "for i in range(1,3): # in range(x,y) x in inclusive and y is exclusive \n",
    "    print(i)"
   ]
  },
  {
   "cell_type": "code",
   "execution_count": 35,
   "metadata": {},
   "outputs": [
    {
     "name": "stdout",
     "output_type": "stream",
     "text": [
      "Example 1: Breaking at 5\n",
      "0 , 1 , 2 , 3 , 4 , \n",
      "\n",
      "Example 2: Passing at 5\n",
      "0 , 1 , 2 , 3 , 4 , , 6 , 7 , 8 , 9 , For loop is not break-ed\n",
      "\n",
      "Example 3: Continue at 5\n",
      "0 , 1 , 2 , 3 , 4 , 6 , 7 , 8 , 9 , For loop is not break-ed\n",
      "\n",
      "NOTE: No Extra comma in example 3 because continue statement\n",
      "returns the control to the beginning of the current loop.\n"
     ]
    }
   ],
   "source": [
    "'''\n",
    "1. For loop using range function\n",
    "2. Breaking the for loop on condition\n",
    "3. Continuing on condition\n",
    "4. Using 'else' with for \n",
    "'''\n",
    "print(\"Example 1: Breaking at 5\")\n",
    "for i in range(10): # similiar to range(0:10)\n",
    "    if i == 5:\n",
    "        break\n",
    "    else:\n",
    "        print(i,end=' ')\n",
    "    print(',', end=' ') #Always print in for loop\n",
    "else: # this is part of for statement\n",
    "    print(\"For loop is not breaked\")\n",
    "\n",
    "print(\"\\n\\nExample 2: Passing at 5\")\n",
    "\n",
    "for i in range(0,10):\n",
    "    if i == 5:\n",
    "        pass #do nothing\n",
    "    else:\n",
    "        print(i,end=' ')\n",
    "    print(',', end=' ') #Always print in for loop\n",
    "else: # this is part of for statement\n",
    "    print(\"For loop is not break-ed\")\n",
    "    \n",
    "print(\"\\nExample 3: Continue at 5\")\n",
    "\n",
    "for i in range(0,10):\n",
    "    if i == 5:\n",
    "        continue # continue to \n",
    "    else:\n",
    "        print(i,end=' ')\n",
    "    print(',', end=' ') #Always print in for loop\n",
    "else: # this is part of for statement\n",
    "    print(\"For loop is not break-ed\\n\")\n",
    "\n",
    "print(\"NOTE: No Extra comma in example 3 because continue statement\")\n",
    "print(\"returns the control to the beginning of the current loop.\")\n"
   ]
  },
  {
   "cell_type": "code",
   "execution_count": 36,
   "metadata": {},
   "outputs": [
    {
     "name": "stdout",
     "output_type": "stream",
     "text": [
      "2 * 1 = 2\n",
      "2 * 2 = 4\n",
      "2 * 3 = 6\n",
      "2 * 4 = 8\n",
      "2 * 5 = 10\n",
      "2 * 6 = 12\n",
      "2 * 7 = 14\n",
      "2 * 8 = 16\n",
      "2 * 9 = 18\n",
      "2 * 10 = 20\n"
     ]
    }
   ],
   "source": [
    "tableNumber = int(input(\"Enter Table number: \"))\n",
    "for i in range(1,11):\n",
    "    print(f\"{tableNumber} * {i} = {tableNumber * i}\")"
   ]
  },
  {
   "cell_type": "markdown",
   "metadata": {},
   "source": [
    "### While Loop <a name=\"while\"></a>"
   ]
  },
  {
   "cell_type": "code",
   "execution_count": 37,
   "metadata": {},
   "outputs": [
    {
     "name": "stdout",
     "output_type": "stream",
     "text": [
      "0\n",
      "1\n",
      "2\n",
      "3\n",
      "4\n"
     ]
    }
   ],
   "source": [
    "i=0\n",
    "while(i!=5):\n",
    "    print(i)\n",
    "    i+=1"
   ]
  },
  {
   "cell_type": "markdown",
   "metadata": {},
   "source": [
    "## Dictionary <a name=\"dictionary\"></a>"
   ]
  },
  {
   "cell_type": "markdown",
   "metadata": {},
   "source": [
    "### Dictionary Creation <a name=\"dic-creation\"></a>"
   ]
  },
  {
   "cell_type": "code",
   "execution_count": 38,
   "metadata": {},
   "outputs": [
    {
     "name": "stdout",
     "output_type": "stream",
     "text": [
      "{1: 'A', 2: 'B', 3: 'C'}\n",
      "{}\n",
      "{1: 'A', 2: 'B'}\n",
      "{1: 3, 2: 2}\n"
     ]
    }
   ],
   "source": [
    "'''\n",
    "1. Creating Dictionary using {}\n",
    "2. Creating Dictionary using List of lists\n",
    "'''\n",
    "d1 = {1:\"A\", 2:\"B\", 3:\"C\"}\n",
    "d2 = {}\n",
    "d3 = dict([[1,\"A\"],[2,\"B\"]])\n",
    "d4 = {1:1, 2:2, 1:3}\n",
    "print(d1)\n",
    "print(d2)\n",
    "print(d3)\n",
    "print(d4) #note 1 is over-written by 3 because of same key"
   ]
  },
  {
   "cell_type": "markdown",
   "metadata": {},
   "source": [
    "### Dictionary Deletion <a name=\"dic-deletion\"></a>"
   ]
  },
  {
   "cell_type": "code",
   "execution_count": 39,
   "metadata": {},
   "outputs": [
    {
     "name": "stdout",
     "output_type": "stream",
     "text": [
      "Type of d:  <class 'dict'>\n",
      "d =  {1: 'A', 2: 'B', 3: 'C'}\n",
      "\n",
      "Keys of d:  dict_keys([1, 2, 3])\n",
      "Value of d:  dict_values(['A', 'B', 'C'])\n",
      "\n",
      "Executing \"del d\" \n",
      "Printing d\n",
      "Dictionary Not Found\n"
     ]
    }
   ],
   "source": [
    "'''\n",
    "1. Dictionary Creation\n",
    "2. Dictionary Keys and Values\n",
    "3. Dictionary Deletion\n",
    "'''\n",
    "d = {1:\"A\", 2:\"B\", 3:\"C\"}\n",
    "print('Type of d: ', type(d))\n",
    "print('d = ', d, end='\\n\\n')\n",
    "print(\"Keys of d: \", d.keys())\n",
    "print(\"Value of d: \", d.values(), end='\\n\\n')\n",
    "print('Executing \"del d\" ')\n",
    "del d\n",
    "try:\n",
    "    print('Printing d')\n",
    "    print(d)\n",
    "except:\n",
    "    print(\"Dictionary Not Found\")"
   ]
  },
  {
   "cell_type": "markdown",
   "metadata": {},
   "source": [
    "### Dictionary's key-value pair deletion <a name=\"dic-kv-deletion\"></a>"
   ]
  },
  {
   "cell_type": "code",
   "execution_count": 40,
   "metadata": {},
   "outputs": [
    {
     "name": "stdout",
     "output_type": "stream",
     "text": [
      "d =  {1: 'A', 2: 'B', 3: 'C'}\n",
      "Keys of d:  dict_keys([1, 2, 3])\n",
      "\n",
      "Deleting key-pair with key 1 ... \n",
      "After d[1] deletion, d =  {2: 'B', 3: 'C'}\n"
     ]
    }
   ],
   "source": [
    "'''\n",
    "1. Dictionary Creation\n",
    "2. Dictionary key-value pair deletion\n",
    "'''\n",
    "d = {1:\"A\", 2:\"B\", 3:\"C\"}\n",
    "print('d = ', d)\n",
    "print(\"Keys of d: \", d.keys(), end='\\n\\n')\n",
    "print('Deleting key-pair with key 1 ... ')\n",
    "del d[1] # NOTE: 1 is key not index\n",
    "print('After d[1] deletion, d = ', d)"
   ]
  },
  {
   "cell_type": "markdown",
   "metadata": {},
   "source": [
    "### Dict Mix type keys and insertion using [ ] <a name=\"dic-mix-keys\"></a>"
   ]
  },
  {
   "cell_type": "code",
   "execution_count": 41,
   "metadata": {},
   "outputs": [
    {
     "name": "stdout",
     "output_type": "stream",
     "text": [
      "Created dictionary using dict(): d =  {}\n",
      "Inserting value 30 at key \"Raza\"..\n",
      "Keys of 'd' now:  dict_keys(['Raza'])\n",
      "\n",
      "Inserting value 30 at key \"raza\"..\n",
      "Keys of 'd' now:  dict_keys(['Raza', 'raza'])\n",
      "NOTE: keys are case sensitive\n",
      "\n",
      "Inserting value \"raza\" at key 30 ..\n",
      "Keys of 'd' now:  dict_keys(['Raza', 'raza', 30])\n",
      "NOTE: dict can have keys as string and integer at the same time\n",
      "\n",
      "Inserting value \"raza\" at key 30.12 ..\n",
      "Keys of 'd' now:  dict_keys(['Raza', 'raza', 30, 30.12])\n",
      "NOTE: dict can have float as keys \n",
      "\n",
      "Now d =  {'Raza': 30, 'raza': 30, 30: 'raza', 30.12: 'raza'}\n",
      "\n",
      "Keys of d:  dict_keys(['Raza', 'raza', 30, 30.12])\n",
      "Value of d:  dict_values([30, 30, 'raza', 'raza'])\n",
      "NOTE: More than one key can have the same value\n",
      "\n",
      "Deleting key-pair with key raza ... \n",
      "Wrong Key \n",
      "The Key given here is a variable \n",
      "d['raza'] is the correct way\n",
      "\n",
      "Deleting key-pair with key \"raza\" ... \n",
      "After d[\"Raza\"] deletion.. \n",
      "d =  {'Raza': 30, 30: 'raza', 30.12: 'raza'}\n"
     ]
    }
   ],
   "source": [
    "'''\n",
    "1. Dictionary Creation with dict()\n",
    "2. Dictionary key-value pair insertion using []\n",
    "3. Dictionary index as strings, integers, floats\n",
    "4. Dictionary Mix type for keys\n",
    "5. Deletion of key-value pair with String key\n",
    "'''\n",
    "d = dict()\n",
    "print('Created dictionary using dict(): d = ', d)\n",
    "print('Inserting value 30 at key \"Raza\"..')\n",
    "d['Raza'] = 30\n",
    "print(\"Keys of 'd' now: \", d.keys(), end='\\n\\n')\n",
    "\n",
    "print('Inserting value 30 at key \"raza\"..')\n",
    "d['raza'] = 30\n",
    "print(\"Keys of 'd' now: \", d.keys())\n",
    "print(\"NOTE: keys are case sensitive\", end='\\n\\n')\n",
    "\n",
    "print('Inserting value \"raza\" at key 30 ..')\n",
    "d[30] = 'raza'\n",
    "print(\"Keys of 'd' now: \", d.keys())\n",
    "print(\"NOTE: dict can have keys as string and integer at the same time\", end='\\n\\n')\n",
    "\n",
    "print('Inserting value \"raza\" at key 30.12 ..')\n",
    "d[30.12] = 'raza'\n",
    "print(\"Keys of 'd' now: \", d.keys())\n",
    "print(\"NOTE: dict can have float as keys \", end='\\n\\n')\n",
    "\n",
    "print('Now d = ', d, end='\\n\\n')\n",
    "print(\"Keys of d: \", d.keys())\n",
    "print(\"Value of d: \", d.values())\n",
    "print(\"NOTE: More than one key can have the same value\", end='\\n\\n')\n",
    "\n",
    "print('Deleting key-pair with key raza ... ')\n",
    "try:\n",
    "    del d[raza]\n",
    "except:\n",
    "    print(\"Wrong Key \\nThe Key given here is a variable \\nd['raza'] is the correct way\", end='\\n\\n')\n",
    "\n",
    "print('Deleting key-pair with key \"raza\" ... ')\n",
    "try:\n",
    "    del d['raza']\n",
    "except:\n",
    "    print('Key \"raza\" not found', end='\\n\\n')\n",
    "    \n",
    "print('After d[\"Raza\"] deletion.. \\nd = ', d)"
   ]
  },
  {
   "cell_type": "markdown",
   "metadata": {},
   "source": [
    "### Dict tuple as a key and replacement using [ ]<a name=\"dic-keytuple\"></a>"
   ]
  },
  {
   "cell_type": "code",
   "execution_count": 42,
   "metadata": {},
   "outputs": [
    {
     "name": "stdout",
     "output_type": "stream",
     "text": [
      "Creating Dict using {}\n",
      "d =  {}\n",
      "Type of d:  <class 'dict'>\n",
      "Inserting 30 at key 1 and 20 at key 2\n",
      "Now d =  {1: 30, 2: 20}\n",
      "\n",
      "Replacing value at key 2 with 'raza'\n",
      "Now d =  {1: 30, 2: 'raza'}\n",
      "\n",
      "Using tuple (2,2) as a key\n",
      "Now d =  {1: 30, 2: 'raza', (2, 2): 10}\n",
      "\n"
     ]
    }
   ],
   "source": [
    "'''\n",
    "1. Creating Dict using {}\n",
    "2. Key-value pair insertion using []\n",
    "3. Replacing value using []\n",
    "4. Tuple as a key\n",
    "'''\n",
    "print(\"Creating Dict using {}\")\n",
    "d = {}\n",
    "print('d = ', d)\n",
    "print('Type of d: ', type(d))\n",
    "print('Inserting 30 at key 1 and 20 at key 2')\n",
    "d[1] = 30\n",
    "d[2] = 20\n",
    "print('Now d = ', d, end='\\n\\n')\n",
    "\n",
    "print(\"Replacing value at key 2 with 'raza'\")\n",
    "d[2] = 'raza'\n",
    "print('Now d = ', d, end='\\n\\n')\n",
    "\n",
    "print(\"Using tuple (2,2) as a key\")\n",
    "d[(2,2)] = 10\n",
    "print('Now d = ', d, end='\\n\\n')"
   ]
  },
  {
   "cell_type": "markdown",
   "metadata": {},
   "source": [
    "### Looping through Dictionary<a name=\"dic-loop\"></a>"
   ]
  },
  {
   "cell_type": "code",
   "execution_count": 43,
   "metadata": {},
   "outputs": [
    {
     "name": "stdout",
     "output_type": "stream",
     "text": [
      "1\n",
      "2\n",
      "3\n"
     ]
    }
   ],
   "source": [
    "'''\n",
    "1. Simple Looping through Dictionary\n",
    "'''\n",
    "d = {1:\"A\", 2:\"B\", 3:\"C\"}\n",
    "\n",
    "for i in d:\n",
    "    print(i) #keys will be printed"
   ]
  },
  {
   "cell_type": "code",
   "execution_count": 44,
   "metadata": {},
   "outputs": [
    {
     "name": "stdout",
     "output_type": "stream",
     "text": [
      "Sum = 6\n"
     ]
    }
   ],
   "source": [
    "'''\n",
    "1. Looping through Dictionary with Mix key\n",
    "2. summing the values of mix key dictionary\n",
    "'''\n",
    "d = {1: 1, '1': 2, 3: 3}\n",
    "total_sum = 0\n",
    "\n",
    "for key in d:\n",
    "    total_sum += d[key]\n",
    "    \n",
    "print('Sum =',total_sum)"
   ]
  },
  {
   "cell_type": "code",
   "execution_count": 45,
   "metadata": {},
   "outputs": [
    {
     "name": "stdout",
     "output_type": "stream",
     "text": [
      "Count =  4\n"
     ]
    }
   ],
   "source": [
    "'''\n",
    "Example\n",
    "'''\n",
    "a = {} # made dictionary\n",
    "a[1] = 1 # inserted value 1 at key 1\n",
    "a['1'] = 2 # inserted value 1 at key '1'\n",
    "a[1] = a[1] + 1 # adding 1 to value at key '1'\n",
    "count = 0 \n",
    "for key in a:\n",
    "    count += a[key]\n",
    "print('Count = ',count)"
   ]
  },
  {
   "cell_type": "markdown",
   "metadata": {},
   "source": [
    "### Comparing Dictionaries <a name=\"dic-cmp\"></a>"
   ]
  },
  {
   "cell_type": "code",
   "execution_count": 46,
   "metadata": {},
   "outputs": [
    {
     "data": {
      "text/plain": [
       "False"
      ]
     },
     "execution_count": 46,
     "metadata": {},
     "output_type": "execute_result"
    }
   ],
   "source": [
    "d1 = {1:\"A\", 2:\"B\", 3:\"C\"}\n",
    "d2 = {1:\"C\", 2:\"C\", 3:\"C\"}\n",
    "d1==d2"
   ]
  },
  {
   "cell_type": "code",
   "execution_count": 47,
   "metadata": {},
   "outputs": [
    {
     "data": {
      "text/plain": [
       "False"
      ]
     },
     "execution_count": 47,
     "metadata": {},
     "output_type": "execute_result"
    }
   ],
   "source": [
    "d1 = {1:\"A\", 2:\"B\", 3:\"C\"}\n",
    "d2 = {4:\"A\", 5:\"B\", 6:\"C\"}\n",
    "d1==d2"
   ]
  },
  {
   "cell_type": "code",
   "execution_count": 48,
   "metadata": {},
   "outputs": [
    {
     "data": {
      "text/plain": [
       "True"
      ]
     },
     "execution_count": 48,
     "metadata": {},
     "output_type": "execute_result"
    }
   ],
   "source": [
    "d1 = {1:\"A\", 2:\"B\", 3:\"C\"}\n",
    "d2 = {1:\"A\", 2:\"B\", 3:\"C\"}\n",
    "d1==d2"
   ]
  },
  {
   "cell_type": "markdown",
   "metadata": {},
   "source": [
    "### Finding key in Dictionary <a name=\"dic-find\"></a>"
   ]
  },
  {
   "cell_type": "code",
   "execution_count": 49,
   "metadata": {},
   "outputs": [
    {
     "name": "stdout",
     "output_type": "stream",
     "text": [
      "True\n",
      "False\n",
      "False\n",
      "\n",
      "True\n",
      "False\n"
     ]
    }
   ],
   "source": [
    "'''\n",
    "Checking for specific key in dict\n",
    "'''\n",
    "d1 = {1:\"A\", 2:\"B\", 3:\"C\", 'raza' : 'Raza'}\n",
    "print(2 in d1)\n",
    "print(\"A\" in d1)\n",
    "print(4 in d1, end='\\n\\n')\n",
    "\n",
    "print('raza' in d1)\n",
    "print('Raza' in d1)"
   ]
  },
  {
   "cell_type": "markdown",
   "metadata": {},
   "source": [
    "## Using .popitem() and .pop(key) on dictionary <a name=\"dic-pop\"></a>"
   ]
  },
  {
   "cell_type": "code",
   "execution_count": 50,
   "metadata": {},
   "outputs": [
    {
     "name": "stdout",
     "output_type": "stream",
     "text": [
      "It removes the arbitrary key-value pairfrom the dictionary and returns it as a tuple.\n",
      "\n",
      "NOTE: There is an update for this method from Python version 3.7 onwards that it removes the last inserted key-value pair from the dictionary and returns it as a tuple.\n",
      ".popitem() => (3, 'C')  d =  {1: 'A', 2: 'B'}\n",
      ".pop(2) => B  d =  {1: 'A', 3: 'C'}\n"
     ]
    }
   ],
   "source": [
    "print(\"It removes the arbitrary key-value pair\\\n",
    "from the dictionary and returns it as a tuple.\\n\")\n",
    "print(\"NOTE: There is an update for this method \\\n",
    "from Python version 3.7 onwards that it removes \\\n",
    "the last inserted key-value pair from the dictionary \\\n",
    "and returns it as a tuple.\")\n",
    "d = {1:\"A\", 2:\"B\", 3:\"C\"}\n",
    "print('.popitem() =>',d.popitem(), ' d = ', d)\n",
    "d = {1:\"A\", 2:\"B\", 3:\"C\"}\n",
    "print('.pop(2) =>',d.pop(2), ' d = ', d)"
   ]
  },
  {
   "cell_type": "markdown",
   "metadata": {},
   "source": [
    "### Dictionary Examples <a name=\"dic-exp\"></a>"
   ]
  },
  {
   "cell_type": "code",
   "execution_count": 51,
   "metadata": {},
   "outputs": [
    {
     "name": "stdout",
     "output_type": "stream",
     "text": [
      "{'A': {1: 10, 3: 30}, 'B': {4: 'Fourty'}}\n"
     ]
    }
   ],
   "source": [
    "a = {}\n",
    "b = {}\n",
    "c = {}\n",
    "a[1] = 10\n",
    "a[3] = 30\n",
    "b[4] = 'Fourty'\n",
    "c['A'] = a\n",
    "c['B'] = b\n",
    "print(c)"
   ]
  },
  {
   "cell_type": "markdown",
   "metadata": {},
   "source": [
    "# List  <a name=\"list\"></a>"
   ]
  },
  {
   "cell_type": "markdown",
   "metadata": {},
   "source": [
    "### Creating List <a name=\"create-list\"></a>"
   ]
  },
  {
   "cell_type": "code",
   "execution_count": 52,
   "metadata": {},
   "outputs": [
    {
     "name": "stdout",
     "output_type": "stream",
     "text": [
      "Types: <class 'list'> <class 'list'> <class 'list'>\n",
      "list1 =  [1, 2, 3]\n",
      "list2 =  []\n",
      "list3 =  []\n"
     ]
    }
   ],
   "source": [
    "'''\n",
    "1. Ways to Create Lists\n",
    "2. Checking type to confirm\n",
    "3. Printing Lists\n",
    "'''\n",
    "list1 = list([1,2,3])\n",
    "list2 = list()\n",
    "list3 = []\n",
    "\n",
    "print('Types:', type(list1), type(list2), type(list3))\n",
    "print('list1 = ', list1)\n",
    "print('list2 = ', list2)\n",
    "print('list3 = ', list3)"
   ]
  },
  {
   "cell_type": "markdown",
   "metadata": {},
   "source": [
    "### Appending in List <a name=\"append-list\"></a>"
   ]
  },
  {
   "cell_type": "code",
   "execution_count": 53,
   "metadata": {},
   "outputs": [
    {
     "name": "stdout",
     "output_type": "stream",
     "text": [
      "Initialized List =  [1, 2.0]\n",
      "Appending list1 in itself results in pointer to itself\n",
      "Now, List =  [1, 2.0, [...]]\n",
      "Length of List =  3\n",
      "\n",
      "Appending string in list1 \n",
      "Now, List =  [1, 2.0, [...], 'string']\n",
      "Length of List =  4\n",
      "\n",
      "Appending list [4,5] in list1 \n",
      "Now, List =  [1, 2.0, [...], 'string', [4, 5]]\n",
      "Length of List =  5\n",
      "\n",
      "Appending tuple (4,5) in list1 \n",
      "Now, List =  [1, 2.0, [...], 'string', [4, 5], (4, 5)]\n",
      "Length of List =  6\n",
      "\n",
      "Appending dict {1:4,2:5} in list1 \n",
      "Now, List =  [1, 2.0, [...], 'string', [4, 5], (4, 5), {1: 4, 2: 5}]\n",
      "Length of List =  7\n",
      "\n",
      "Appending set {1,2,4} in list1 \n",
      "Now, List =  [1, 2.0, [...], 'string', [4, 5], (4, 5), {1: 4, 2: 5}, {1, 2, 4}]\n",
      "Length of List =  8\n",
      "\n",
      "Checking type of each Element of list1\n",
      "<class 'int'> 1\n",
      "\n",
      "<class 'float'> 2.0\n",
      "\n",
      "<class 'list'> [1, 2.0, [...], 'string', [4, 5], (4, 5), {1: 4, 2: 5}, {1, 2, 4}]\n",
      "\n",
      "<class 'str'> string\n",
      "\n",
      "<class 'list'> [4, 5]\n",
      "\n",
      "<class 'tuple'> (4, 5)\n",
      "\n",
      "<class 'dict'> {1: 4, 2: 5}\n",
      "\n",
      "<class 'set'> {1, 2, 4}\n",
      "\n"
     ]
    }
   ],
   "source": [
    "'''\n",
    "1. Inserting strings, numbers, bool, floatin the list\n",
    "2. Appending list, tuple, set and dict in list\n",
    "3. Checking type of all elements\n",
    "'''\n",
    "list1 = [1,2.0]\n",
    "print('Initialized List = ', list1)\n",
    "list1.append(list1)\n",
    "print('Appending list1 in itself results in pointer to itself')\n",
    "print('Now, List = ', list1)\n",
    "print('Length of List = ', len(list1), end= '\\n\\n')\n",
    "\n",
    "print('Appending string in list1 ')\n",
    "list1.append('string')\n",
    "print('Now, List = ', list1)\n",
    "print('Length of List = ', len(list1), end= '\\n\\n')\n",
    "\n",
    "print('Appending list [4,5] in list1 ')\n",
    "list1.append([4,5])\n",
    "print('Now, List = ', list1)\n",
    "print('Length of List = ', len(list1), end= '\\n\\n')\n",
    "\n",
    "print('Appending tuple (4,5) in list1 ')\n",
    "list1.append((4,5))\n",
    "print('Now, List = ', list1)\n",
    "print('Length of List = ', len(list1), end= '\\n\\n')\n",
    "\n",
    "print('Appending dict {1:4,2:5} in list1 ')\n",
    "list1.append({1:4,2:5})\n",
    "print('Now, List = ', list1)\n",
    "print('Length of List = ', len(list1), end= '\\n\\n')\n",
    "\n",
    "print('Appending set {1,2,4} in list1 ')\n",
    "list1.append({1,2,4,4,4,4})\n",
    "print('Now, List = ', list1)\n",
    "print('Length of List = ', len(list1), end= '\\n\\n')\n",
    "\n",
    "print('Checking type of each Element of list1')\n",
    "for element in list1:\n",
    "    print(type(element), element, end= '\\n\\n')"
   ]
  },
  {
   "cell_type": "markdown",
   "metadata": {},
   "source": [
    "### Slicing and index List  <a name=\"slice-list\"></a>"
   ]
  },
  {
   "cell_type": "code",
   "execution_count": 54,
   "metadata": {},
   "outputs": [
    {
     "name": "stdout",
     "output_type": "stream",
     "text": [
      "Initialized List:  [0, 1, 2, 3, 4, 5, 6, 7, 8, 9]\n",
      "\n",
      ">>>>Slicing<<<<\n",
      "[2]\n",
      "[7]\n",
      "\n",
      "[2, 3, 4]\n",
      "[5, 6, 7]\n",
      "\n",
      "[0, 1, 2, 3, 4, 5, 6, 7, 8, 9]\n",
      "[0, 2, 4, 6, 8]\n",
      "\n",
      "[9, 8, 7, 6, 5, 4, 3, 2, 1, 0]\n",
      "[8, 6, 4, 2, 0]\n",
      "\n",
      ">>>>Indexing<<<<\n",
      "0\n",
      "9\n",
      "\n",
      "9\n",
      "5\n",
      "\n"
     ]
    }
   ],
   "source": [
    "'''\n",
    "1. Slicing integer List\n",
    "2. Indexing integer List\n",
    "'''\n",
    "list1 = list(range(0,10))\n",
    "print('Initialized List: ',list1, end= '\\n\\n')\n",
    "print('>>>>Slicing<<<<')\n",
    "print(list1[2:3])\n",
    "print(list1[-3:-2], end= '\\n\\n') \n",
    "print(list1[2:5])\n",
    "print(list1[-5:-2], end= '\\n\\n')\n",
    "print(list1[0:10:1])\n",
    "print(list1[0:10:2], end= '\\n\\n')\n",
    "print(list1[-1::-1])\n",
    "print(list1[-2::-2], end= '\\n\\n')\n",
    "\n",
    "print('>>>>Indexing<<<<')\n",
    "print(list1[0])\n",
    "print(list1[-1], end= '\\n\\n')\n",
    "print(list1[len(list1)-1])\n",
    "print(list1[len(list1)//2], end= '\\n\\n')"
   ]
  },
  {
   "cell_type": "markdown",
   "metadata": {},
   "source": [
    "### Slicing and index MIX List  <a name=\"slice-mix-list\"></a>"
   ]
  },
  {
   "cell_type": "code",
   "execution_count": 55,
   "metadata": {},
   "outputs": [
    {
     "name": "stdout",
     "output_type": "stream",
     "text": [
      "list1's Element 0 with type <class 'int'> is 1\n",
      "list1's Element 1 with type <class 'float'> is 2.2\n",
      "list1's Element 2 with type <class 'str'> is raza\n",
      "list1's Element 3 with type <class 'tuple'> is (3, 4)\n",
      "list1's Element 4 with type <class 'list'> is [5, 6]\n",
      "list1's Element 5 with type <class 'set'> is {8, 7}\n",
      "list1's Element 6 with type <class 'dict'> is {9: 10, 11: 12}\n",
      "\n",
      "list1= \n",
      " [1, 2.2, 'raza', (3, 4), [5, 6], {8, 7}, {9: 10, 11: 12}]\n",
      "\n",
      "Printing list1[-1][9]=  10\n",
      "Explanation: \n",
      "list1[-1]= {9: 10, 11: 12} which is dictionary\n",
      "Now need to enter the key to get value from dictionary\n",
      "\n",
      "Indexing string: list1[2][2]=  z\n",
      "indexing list in the list1: list1[4][2]=  6\n"
     ]
    }
   ],
   "source": [
    "'''\n",
    "1. Printing Mix List\n",
    "2. Indexing Mix List\n",
    "3. Slicing Mix List\n",
    "'''\n",
    "list1 = [1, 2.2, 'raza', (3,4), [5,6], {7,8}, {9:10,11:12}]\n",
    "\n",
    "#Printing List Elements and their types\n",
    "for i,element in enumerate(list1):\n",
    "    print(\"list1's Element {} with type {} is {}\".format(i\n",
    "                                                         ,type(element)\n",
    "                                                         ,element\n",
    "                                                        )\n",
    "         )\n",
    "\n",
    "#printing list1\n",
    "print('\\nlist1= \\n',list1, end= '\\n\\n')\n",
    "\n",
    "#Indexing List\n",
    "print('Printing list1[-1][9]= ',list1[-1][9])\n",
    "print('Explanation: ')\n",
    "print('list1[-1]= {} which is dictionary'.format(list1[-1]))\n",
    "print('Now need to enter the key to get value from dictionary\\n')\n",
    "\n",
    "#indexing string in the list\n",
    "print('Indexing string: list1[2][2]= ',list1[2][2]) \n",
    "\n",
    "#indexing list in the list\n",
    "print('indexing list in the list1: list1[4][2]= ',list1[4][1]) \n",
    "\n"
   ]
  },
  {
   "cell_type": "markdown",
   "metadata": {},
   "source": [
    "### List Comparison <a name=\"cmp-list\"></a>"
   ]
  },
  {
   "cell_type": "code",
   "execution_count": 56,
   "metadata": {},
   "outputs": [
    {
     "name": "stdout",
     "output_type": "stream",
     "text": [
      "Is List1 < List2?  True\n",
      "Is List2 < List1?  False\n",
      "Is List2 == List1?  False\n"
     ]
    }
   ],
   "source": [
    "'''\n",
    "1. Numeric: One Element change\n",
    "'''\n",
    "list1 = [1,2,3,4]\n",
    "list2 = [1,2,3,44]\n",
    "print(\"Is List1 < List2? \",(list1 < list2))\n",
    "print(\"Is List2 < List1? \",(list2 < list1))\n",
    "print(\"Is List2 == List1? \",(list2 == list1))"
   ]
  },
  {
   "cell_type": "code",
   "execution_count": 57,
   "metadata": {},
   "outputs": [
    {
     "name": "stdout",
     "output_type": "stream",
     "text": [
      "Is List1 < List2?  False\n",
      "Is List2 < List1?  True\n",
      "Is List2 == List1?  False\n"
     ]
    }
   ],
   "source": [
    "'''\n",
    "1. Numeric: Two Element change\n",
    "2. Comparison takes place element by element\n",
    "'''\n",
    "list1 = [1,22,3,4]\n",
    "list2 = [1,2,3,44]\n",
    "print(\"Is List1 < List2? \",(list1 < list2))\n",
    "print(\"Is List2 < List1? \",(list2 < list1))\n",
    "print(\"Is List2 == List1? \",(list2 == list1))"
   ]
  },
  {
   "cell_type": "code",
   "execution_count": 58,
   "metadata": {},
   "outputs": [
    {
     "name": "stdout",
     "output_type": "stream",
     "text": [
      "Is List1 < List2?  False\n",
      "Is List2 < List1?  True\n",
      "Is List2 == List1?  False\n"
     ]
    }
   ],
   "source": [
    "'''\n",
    "1. Mix: One Numeric Element change\n",
    "'''\n",
    "list1 = ['raza', 1, 2.2, True]\n",
    "list2 = ['raza', 1, 2.1, True]\n",
    "print(\"Is List1 < List2? \",(list1 < list2))\n",
    "print(\"Is List2 < List1? \",(list2 < list1))\n",
    "print(\"Is List2 == List1? \",(list2 == list1))"
   ]
  },
  {
   "cell_type": "code",
   "execution_count": 59,
   "metadata": {},
   "outputs": [
    {
     "name": "stdout",
     "output_type": "stream",
     "text": [
      "Is List1 < List2?  True\n",
      "Is List2 < List1?  False\n",
      "Is List2 == List1?  False\n"
     ]
    }
   ],
   "source": [
    "'''\n",
    "1. Mix: One String Element change\n",
    "'''\n",
    "list1 = ['raza', 1, 2.2, True]\n",
    "list2 = ['razb', 1, 2.2, True]\n",
    "print(\"Is List1 < List2? \",(list1 < list2))\n",
    "print(\"Is List2 < List1? \",(list2 < list1))\n",
    "print(\"Is List2 == List1? \",(list2 == list1))"
   ]
  },
  {
   "cell_type": "code",
   "execution_count": 60,
   "metadata": {},
   "outputs": [
    {
     "name": "stdout",
     "output_type": "stream",
     "text": [
      "Is List1 < List2?  False\n",
      "Is List2 < List1?  True\n",
      "Is List2 == List1?  False\n"
     ]
    }
   ],
   "source": [
    "'''\n",
    "1. Size miss match\n",
    "'''\n",
    "list1 = [ 2.20002, True]\n",
    "list2 = [ 2.20002]\n",
    "print(\"Is List1 < List2? \",(list1 < list2))\n",
    "print(\"Is List2 < List1? \",(list2 < list1))\n",
    "print(\"Is List2 == List1? \",(list2 == list1))"
   ]
  },
  {
   "cell_type": "markdown",
   "metadata": {},
   "source": [
    "### Operation on List <a name=\"oper-list\"></a>"
   ]
  },
  {
   "cell_type": "code",
   "execution_count": 61,
   "metadata": {},
   "outputs": [
    {
     "name": "stdout",
     "output_type": "stream",
     "text": [
      "[1, 2, 3, 1, 2, 3]\n"
     ]
    }
   ],
   "source": [
    "'''\n",
    "1. multiplying list by scalar number\n",
    "2. + - / ** ^ & | doesn't work\n",
    "\n",
    "'''\n",
    "list1 = [1,2,3] \n",
    "print(list1*2)"
   ]
  },
  {
   "cell_type": "code",
   "execution_count": 62,
   "metadata": {},
   "outputs": [
    {
     "name": "stdout",
     "output_type": "stream",
     "text": [
      "[1, 2, 3, 4, 5, 6]\n"
     ]
    }
   ],
   "source": [
    "'''\n",
    "1. Adding two lists\n",
    "2. * - ^ / & | doesn't work\n",
    "'''\n",
    "list1 = [1,2,3] \n",
    "list2 = [4,5,6] \n",
    "print(list1 + list2)"
   ]
  },
  {
   "cell_type": "markdown",
   "metadata": {},
   "source": [
    "### List Examples"
   ]
  },
  {
   "cell_type": "code",
   "execution_count": 63,
   "metadata": {},
   "outputs": [
    {
     "name": "stdout",
     "output_type": "stream",
     "text": [
      "[(3, 1), (4, 2), (4, 1), (5, 2)]\n"
     ]
    }
   ],
   "source": [
    "list1 = [3,4]\n",
    "list2 = [1,2]\n",
    "list3 = list()\n",
    "i,j = 0, 0\n",
    "for i in list1:\n",
    "    for j in list2:\n",
    "        list3.append((i,j))\n",
    "        i+=1\n",
    "        j+=1\n",
    "print(list3)"
   ]
  },
  {
   "cell_type": "markdown",
   "metadata": {},
   "source": [
    "### Using .pop() on list"
   ]
  },
  {
   "cell_type": "code",
   "execution_count": 64,
   "metadata": {},
   "outputs": [
    {
     "name": "stdout",
     "output_type": "stream",
     "text": [
      "My List =  [(3, 1), (4, 2), (4, 1), (5, 2)]\n",
      "Poped element =  (5, 2)\n",
      "Now List =  [(3, 1), (4, 2), (4, 1)]\n"
     ]
    }
   ],
   "source": [
    "list1 = [(3, 1), (4, 2), (4, 1), (5, 2)]\n",
    "print(\"My List = \", list1)\n",
    "poped_element = list1.pop()\n",
    "print(\"Poped element = \", poped_element)\n",
    "print(\"Now List = \", list1)"
   ]
  },
  {
   "cell_type": "markdown",
   "metadata": {},
   "source": [
    "## Tuple <a name=\"tuple\"></a>"
   ]
  },
  {
   "cell_type": "code",
   "execution_count": 65,
   "metadata": {},
   "outputs": [
    {
     "name": "stdout",
     "output_type": "stream",
     "text": [
      "<class 'tuple'> <class 'tuple'> <class 'tuple'>\n"
     ]
    }
   ],
   "source": [
    "a = 12, 34\n",
    "b = (1,2)\n",
    "c = tuple()\n",
    "print(type(a), type(b), type(c))"
   ]
  },
  {
   "cell_type": "code",
   "execution_count": 66,
   "metadata": {},
   "outputs": [
    {
     "name": "stdout",
     "output_type": "stream",
     "text": [
      "Index of 33 is  2\n"
     ]
    }
   ],
   "source": [
    "a = (11,22,33)\n",
    "print('Index of 33 is ', a.index(33))"
   ]
  },
  {
   "cell_type": "markdown",
   "metadata": {},
   "source": [
    "## SET <a name=\"set\"></a>"
   ]
  },
  {
   "cell_type": "code",
   "execution_count": 67,
   "metadata": {},
   "outputs": [
    {
     "name": "stdout",
     "output_type": "stream",
     "text": [
      "{1, 2, 3, 4}\n",
      "Poped element =  1\n",
      "{2, 3, 4}\n"
     ]
    }
   ],
   "source": [
    "set1 = {1,2,3,3,4}\n",
    "print(set1)\n",
    "poped_element = set1.pop()\n",
    "print(\"Poped element = \", poped_element)\n",
    "print(set1)\n"
   ]
  },
  {
   "cell_type": "code",
   "execution_count": null,
   "metadata": {},
   "outputs": [],
   "source": []
  }
 ],
 "metadata": {
  "kernelspec": {
   "display_name": "Python 3",
   "language": "python",
   "name": "python3"
  },
  "language_info": {
   "codemirror_mode": {
    "name": "ipython",
    "version": 3
   },
   "file_extension": ".py",
   "mimetype": "text/x-python",
   "name": "python",
   "nbconvert_exporter": "python",
   "pygments_lexer": "ipython3",
   "version": "3.12.2"
  }
 },
 "nbformat": 4,
 "nbformat_minor": 4
}
